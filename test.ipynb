{
 "cells": [
  {
   "cell_type": "code",
   "execution_count": 1,
   "metadata": {},
   "outputs": [
    {
     "name": "stdout",
     "output_type": "stream",
     "text": [
      "Folder structure and files created successfully.\n"
     ]
    }
   ],
   "source": [
    "import os\n",
    "\n",
    "base_folder = 'app/DashApp/HeartSound'\n",
    "conditions_list = [\n",
    "    \"Normal Heart\",\n",
    "    \"Split First Heart\",\n",
    "    \"Split Second Heart\",\n",
    "    \"Third Heart\",\n",
    "    \"Fourth Heart\",\n",
    "    \"Functional Murmur\",\n",
    "    \"Diastolic Murmur\",\n",
    "    \"Opening Snap\",\n",
    "    \"Holosystolic Murmur\",\n",
    "    \"Early Systolic Murmur\",\n",
    "    \"Mid Systolic Murmur\",\n",
    "    \"Continuous Murmur\",\n",
    "    \"Austin Flint Murmur\",\n",
    "    \"Pericardial Rub\",\n",
    "    \"Graham Steell Murmur\",\n",
    "    \"Aortic Valve Regurgitation\",\n",
    "    \"Aortic Valve Stenosis\",\n",
    "    \"Aortic Valve Stenosis Regurgitation\",\n",
    "    \"Congenital Aortic Stenosis\",\n",
    "    \"Mitral Valve Regurgitation\",\n",
    "    \"Mitral Valve Stenosis\",\n",
    "    \"Mitral Valve Prolapse\",\n",
    "    \"Mitral Stenosis Regurgitation\",\n",
    "    \"Mitral Stenosis Tricuspid Regurgitation\",\n",
    "    \"Pulmonary Valve Stenosis\",\n",
    "    \"Pulmonary Valve Regurgitation\",\n",
    "    \"Tricuspid Valve Regurgitation\",\n",
    "    \"Coarctation of the Aorta\",\n",
    "    \"Hypertrophic Cardiomyopathy\",\n",
    "    \"Patent Ductus Arteriosus\",\n",
    "    \"Atrial Septal Defect\",\n",
    "    \"Ventricular Septal Defect\",\n",
    "    \"Acute Myocardial Infarction\",\n",
    "    \"Congestive Heart Failure\",\n",
    "    \"Systemic Hypertension\",\n",
    "    \"Acute Pericarditis\",\n",
    "    \"Dilated Cardiomyopathy\",\n",
    "    \"Pulmonary Hypertension\",\n",
    "    \"Tetralogy of Fallot\",\n",
    "    \"Ventricular Aneurysm\",\n",
    "    \"Ebstein Anomaly\"\n",
    "]\n",
    "\n",
    "# Create main folder\n",
    "os.makedirs(base_folder, exist_ok=True)\n",
    "\n",
    "# Create sub-folders and files\n",
    "for condition in conditions_list:\n",
    "    condition_folder = os.path.join(base_folder, condition)\n",
    "    os.makedirs(condition_folder, exist_ok=True)\n",
    "    \n",
    "    for filename in ['mitral.py', 'aortic.py', 'pulmonary.py', 'tricuspid.py', 'erb.py']:\n",
    "        file_path = os.path.join(condition_folder, filename)\n",
    "        with open(file_path, 'w') as file:\n",
    "            file.write(\"# Placeholder content for {}\".format(filename))\n",
    "\n",
    "print(\"Folder structure and files created successfully.\")"
   ]
  },
  {
   "cell_type": "code",
   "execution_count": null,
   "metadata": {},
   "outputs": [],
   "source": []
  }
 ],
 "metadata": {
  "kernelspec": {
   "display_name": "Python 3",
   "language": "python",
   "name": "python3"
  },
  "language_info": {
   "codemirror_mode": {
    "name": "ipython",
    "version": 3
   },
   "file_extension": ".py",
   "mimetype": "text/x-python",
   "name": "python",
   "nbconvert_exporter": "python",
   "pygments_lexer": "ipython3",
   "version": "3.11.1"
  }
 },
 "nbformat": 4,
 "nbformat_minor": 2
}
