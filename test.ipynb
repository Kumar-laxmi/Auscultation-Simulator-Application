{
 "cells": [
  {
   "cell_type": "code",
   "execution_count": 2,
   "metadata": {},
   "outputs": [],
   "source": [
    "heart_tones = [\"normal_heart_sound\",\"split_first_heart_sound\",\"split_second_heart_sound\",\"third_heart_sound\",\"fourth_heart_sound\"]\n",
    "murmurs = [\"functional_murmur_sound\", \"diastolic_murmur_sound\", \"opening_snap_sound\", \"holosystolic_murmur_sound\", \"early_systolic_murmur_sound\", \"mid_systolic_murmur_sound\", \"continuous_murmur_sound\", \"austin_flint_murmur_sound\", \"pericardial_rub_sound\", \"graham_steell_murmur_sound\"]\n",
    "aortic_valve = [\"aortic_valve_regurgitation_sound\",\"aortic_valve_stenosis_sound\",\"aortic_valve_stenosis_regurgitation_sound\",\"congenital_aortic_stenosis_sound\"]\n",
    "mitral_valve = [\"mitral_valve_regurgitation_sound\",\"mitral_valve_stenosis_sound\",\"mitral_valve_prelapse_sound\",\"mitral_stenosis_regurgitation_sound\",\"mitral_stenosis_tricuspid_regurgitation_sound\"]\n",
    "pulmonary_valve = [\"pulmonary_valve_stenosis_sound\",\"pulmonary_valve_regurgitation_sound\"]\n",
    "tricuspid_valve = [\"tricuspid_valve_regurgitation_sound\"]\n",
    "pathology = [\"coarctation_of_the_aorta_sound\",\"hypertrophic_cardiomyopathy_sound\",\"patent_ductus_arteriosus_sound\",\"atrial_septal_defect_sound\",\"ventricular_septal_defect_sound\",\"acute_myocardial_infarction_sound\",\"congestive_heart_failure_sound\",\"systemic_hypertension_sound\",\"acute_pericarditis_sound\",\"dilated_cardiomyopathy_sound\",\"pulmonary_hypertension_sound\",\"tetralogy_of_fallot_sound\",\"ventricular_aneurysm_sound\",\"ebstein_anomaly_sound\"]\n",
    "\n",
    "original_sounds = heart_tones + murmurs + aortic_valve + mitral_valve + pulmonary_valve + tricuspid_valve + pathology\n",
    "\n",
    "suffix1 = \"_mitral_valve\"\n",
    "suffix2 = \"_aortic_valve\"\n",
    "suffix3 = \"_pulmonary_valve\"\n",
    "suffix4 = \"_tricuspid_valve\"\n",
    "suffix5 = \"_erb_point\"\n",
    "\n",
    "new_sounds1 = [sound + suffix1 for sound in original_sounds]\n",
    "new_sounds2 = [sound + suffix2 for sound in original_sounds]\n",
    "new_sounds3 = [sound + suffix3 for sound in original_sounds]\n",
    "new_sounds4 = [sound + suffix4 for sound in original_sounds]\n",
    "new_sounds5 = [sound + suffix5 for sound in original_sounds]"
   ]
  },
  {
   "cell_type": "code",
   "execution_count": 3,
   "metadata": {},
   "outputs": [
    {
     "data": {
      "text/plain": [
       "['functional_murmur_sound_mitral_valve',\n",
       " 'diastolic_murmur_sound_mitral_valve',\n",
       " 'opening_snap_sound_mitral_valve',\n",
       " 'holosystolic_murmur_sound_mitral_valve',\n",
       " 'early_systolic_murmur_sound_mitral_valve',\n",
       " 'mid_systolic_murmur_sound_mitral_valve',\n",
       " 'continuous_murmur_sound_mitral_valve',\n",
       " 'austin_flint_murmur_sound_mitral_valve',\n",
       " 'pericardial_rub_sound_mitral_valve',\n",
       " 'graham_steell_murmur_sound_mitral_valve',\n",
       " 'aortic_valve_regurgitation_sound_mitral_valve',\n",
       " 'aortic_valve_stenosis_sound_mitral_valve',\n",
       " 'aortic_valve_stenosis_regurgitation_sound_mitral_valve',\n",
       " 'congenital_aortic_stenosis_sound_mitral_valve',\n",
       " 'mitral_valve_regurgitation_sound_mitral_valve',\n",
       " 'mitral_valve_stenosis_sound_mitral_valve',\n",
       " 'mitral_valve_prelapse_sound_mitral_valve',\n",
       " 'mitral_stenosis_regurgitation_sound_mitral_valve',\n",
       " 'mitral_stenosis_tricuspid_regurgitation_sound_mitral_valve',\n",
       " 'pulmonary_valve_stenosis_sound_mitral_valve',\n",
       " 'pulmonary_valve_regurgitation_sound_mitral_valve',\n",
       " 'tricuspid_valve_regurgitation_sound_mitral_valve',\n",
       " 'coarctation_of_the_aorta_sound_mitral_valve',\n",
       " 'hypertrophic_cardiomyopathy_sound_mitral_valve',\n",
       " 'patent_ductus_arteriosus_sound_mitral_valve',\n",
       " 'atrial_septal_defect_sound_mitral_valve',\n",
       " 'ventricular_septal_defect_sound_mitral_valve',\n",
       " 'acute_myocardial_infarction_sound_mitral_valve',\n",
       " 'congestive_heart_failure_sound_mitral_valve',\n",
       " 'systemic_hypertension_sound_mitral_valve',\n",
       " 'acute_pericarditis_sound_mitral_valve',\n",
       " 'dilated_cardiomyopathy_sound_mitral_valve',\n",
       " 'pulmonary_hypertension_sound_mitral_valve',\n",
       " 'tetralogy_of_fallot_sound_mitral_valve',\n",
       " 'ventricular_aneurysm_sound_mitral_valve',\n",
       " 'ebstein_anomaly_sound_mitral_valve']"
      ]
     },
     "execution_count": 3,
     "metadata": {},
     "output_type": "execute_result"
    }
   ],
   "source": [
    "new_sounds1"
   ]
  },
  {
   "cell_type": "code",
   "execution_count": null,
   "metadata": {},
   "outputs": [],
   "source": []
  }
 ],
 "metadata": {
  "kernelspec": {
   "display_name": "Python 3",
   "language": "python",
   "name": "python3"
  },
  "language_info": {
   "codemirror_mode": {
    "name": "ipython",
    "version": 3
   },
   "file_extension": ".py",
   "mimetype": "text/x-python",
   "name": "python",
   "nbconvert_exporter": "python",
   "pygments_lexer": "ipython3",
   "version": "3.10.5"
  }
 },
 "nbformat": 4,
 "nbformat_minor": 2
}
