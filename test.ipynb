{
 "cells": [
  {
   "cell_type": "code",
   "execution_count": 2,
   "metadata": {},
   "outputs": [],
   "source": [
    "heart_lst = [\n",
    "    \"normal_heart_sound\",\"split_first_heart_sound\",\"split_second_heart_sound\",\"third_heart_sound\",\"fourth_heart_sound\",\n",
    "    \"functional_murmur_sound\",\"diastolic_murmur_sound\",\"opening_snap_sound\",\"holosystolic_murmur_sound\",\"early_systolic_murmur_sound\",\"mid_systolic_murmur_sound\",\"continuous_murmur_sound\",\"austin_flint_murmur_sound\",\"pericardial_rub_sound\",\"graham_steell_murmur_sound\",\n",
    "    \"aortic_valve_regurgitation_sound\",\"aortic_valve_stenosis_sound\",\"aortic_valve_stenosis_regurgitation_sound\",\"congenital_aortic_stenosis_sound\",\n",
    "    \"mitral_valve_regurgitation_sound\",\"mitral_valve_stenosis_sound\",\"mitral_valve_prelapse_sound\",\"mitral_stenosis_regurgitation_sound\",\"mitral_stenosis_tricuspid_regurgitation_sound\",\n",
    "    \"pulmonary_valve_stenosis_sound\",\"pulmonary_valve_regurgitation_sound\",\n",
    "    \"tricuspid_valve_regurgitation_sound\",\n",
    "    \"coarctation_of_the_aorta_sound\",\"hypertrophic_cardiomyopathy_sound\",\"patent_ductus_arteriosus_sound\",\"atrial_septal_defect_sound\",\"ventricular_septal_defect_sound\",\"acute_myocardial_infarction_sound\",\"congestive_heart_failure_sound\",\"systemic_hypertension_sound\",\"acute_pericarditis_sound\",\"dilated_cardiomyopathy_sound\",\"pulmonary_hypertension_sound\",\"tetralogy_of_fallot_sound\",\"ventricular_aneurysm_sound\",\"ebstein_anomaly_sound\"\n",
    "]"
   ]
  },
  {
   "cell_type": "code",
   "execution_count": 3,
   "metadata": {},
   "outputs": [],
   "source": [
    "valve_name = [\n",
    "    'mitral_valve',\n",
    "    'aortic_valve',\n",
    "    'pulmonary_valve',\n",
    "    'tricuspid_valve',\n",
    "    'erbs_point'\n",
    "]"
   ]
  },
  {
   "cell_type": "code",
   "execution_count": 4,
   "metadata": {},
   "outputs": [],
   "source": [
    "mitral_ranges = []\n",
    "aortic_ranges = []\n",
    "pulmonary_ranges = []\n",
    "tricuspid_ranges = []\n",
    "erb_ranges = []"
   ]
  },
  {
   "cell_type": "code",
   "execution_count": 5,
   "metadata": {},
   "outputs": [],
   "source": [
    "for x in heart_lst:\n",
    "    mitral_ranges.append(x + \"_\" + valve_name[0] + \"_range\")\n",
    "    aortic_ranges.append(x + \"_\" + valve_name[1] + \"_range\")\n",
    "    pulmonary_ranges.append(x + \"_\" + valve_name[2] + \"_range\")\n",
    "    tricuspid_ranges.append(x + \"_\" + valve_name[3] + \"_range\")\n",
    "    erb_ranges.append(x + \"_\" + valve_name[4] + \"_range\")"
   ]
  },
  {
   "cell_type": "code",
   "execution_count": 7,
   "metadata": {},
   "outputs": [
    {
     "name": "stdout",
     "output_type": "stream",
     "text": [
      "\"normal_heart_sound_mitral_valve_range\",\"split_first_heart_sound_mitral_valve_range\",\"split_second_heart_sound_mitral_valve_range\",\"third_heart_sound_mitral_valve_range\",\"fourth_heart_sound_mitral_valve_range\",\"functional_murmur_sound_mitral_valve_range\",\"diastolic_murmur_sound_mitral_valve_range\",\"opening_snap_sound_mitral_valve_range\",\"holosystolic_murmur_sound_mitral_valve_range\",\"early_systolic_murmur_sound_mitral_valve_range\",\"mid_systolic_murmur_sound_mitral_valve_range\",\"continuous_murmur_sound_mitral_valve_range\",\"austin_flint_murmur_sound_mitral_valve_range\",\"pericardial_rub_sound_mitral_valve_range\",\"graham_steell_murmur_sound_mitral_valve_range\",\"aortic_valve_regurgitation_sound_mitral_valve_range\",\"aortic_valve_stenosis_sound_mitral_valve_range\",\"aortic_valve_stenosis_regurgitation_sound_mitral_valve_range\",\"congenital_aortic_stenosis_sound_mitral_valve_range\",\"mitral_valve_regurgitation_sound_mitral_valve_range\",\"mitral_valve_stenosis_sound_mitral_valve_range\",\"mitral_valve_prelapse_sound_mitral_valve_range\",\"mitral_stenosis_regurgitation_sound_mitral_valve_range\",\"mitral_stenosis_tricuspid_regurgitation_sound_mitral_valve_range\",\"pulmonary_valve_stenosis_sound_mitral_valve_range\",\"pulmonary_valve_regurgitation_sound_mitral_valve_range\",\"tricuspid_valve_regurgitation_sound_mitral_valve_range\",\"coarctation_of_the_aorta_sound_mitral_valve_range\",\"hypertrophic_cardiomyopathy_sound_mitral_valve_range\",\"patent_ductus_arteriosus_sound_mitral_valve_range\",\"atrial_septal_defect_sound_mitral_valve_range\",\"ventricular_septal_defect_sound_mitral_valve_range\",\"acute_myocardial_infarction_sound_mitral_valve_range\",\"congestive_heart_failure_sound_mitral_valve_range\",\"systemic_hypertension_sound_mitral_valve_range\",\"acute_pericarditis_sound_mitral_valve_range\",\"dilated_cardiomyopathy_sound_mitral_valve_range\",\"pulmonary_hypertension_sound_mitral_valve_range\",\"tetralogy_of_fallot_sound_mitral_valve_range\",\"ventricular_aneurysm_sound_mitral_valve_range\",\"ebstein_anomaly_sound_mitral_valve_range\","
     ]
    }
   ],
   "source": [
    "for x in mitral_ranges:\n",
    "    print(\"\\\"{}\\\"\".format(x),end=\",\")"
   ]
  },
  {
   "cell_type": "code",
   "execution_count": 8,
   "metadata": {},
   "outputs": [
    {
     "name": "stdout",
     "output_type": "stream",
     "text": [
      "\"normal_heart_sound_aortic_valve_range\",\"split_first_heart_sound_aortic_valve_range\",\"split_second_heart_sound_aortic_valve_range\",\"third_heart_sound_aortic_valve_range\",\"fourth_heart_sound_aortic_valve_range\",\"functional_murmur_sound_aortic_valve_range\",\"diastolic_murmur_sound_aortic_valve_range\",\"opening_snap_sound_aortic_valve_range\",\"holosystolic_murmur_sound_aortic_valve_range\",\"early_systolic_murmur_sound_aortic_valve_range\",\"mid_systolic_murmur_sound_aortic_valve_range\",\"continuous_murmur_sound_aortic_valve_range\",\"austin_flint_murmur_sound_aortic_valve_range\",\"pericardial_rub_sound_aortic_valve_range\",\"graham_steell_murmur_sound_aortic_valve_range\",\"aortic_valve_regurgitation_sound_aortic_valve_range\",\"aortic_valve_stenosis_sound_aortic_valve_range\",\"aortic_valve_stenosis_regurgitation_sound_aortic_valve_range\",\"congenital_aortic_stenosis_sound_aortic_valve_range\",\"mitral_valve_regurgitation_sound_aortic_valve_range\",\"mitral_valve_stenosis_sound_aortic_valve_range\",\"mitral_valve_prelapse_sound_aortic_valve_range\",\"mitral_stenosis_regurgitation_sound_aortic_valve_range\",\"mitral_stenosis_tricuspid_regurgitation_sound_aortic_valve_range\",\"pulmonary_valve_stenosis_sound_aortic_valve_range\",\"pulmonary_valve_regurgitation_sound_aortic_valve_range\",\"tricuspid_valve_regurgitation_sound_aortic_valve_range\",\"coarctation_of_the_aorta_sound_aortic_valve_range\",\"hypertrophic_cardiomyopathy_sound_aortic_valve_range\",\"patent_ductus_arteriosus_sound_aortic_valve_range\",\"atrial_septal_defect_sound_aortic_valve_range\",\"ventricular_septal_defect_sound_aortic_valve_range\",\"acute_myocardial_infarction_sound_aortic_valve_range\",\"congestive_heart_failure_sound_aortic_valve_range\",\"systemic_hypertension_sound_aortic_valve_range\",\"acute_pericarditis_sound_aortic_valve_range\",\"dilated_cardiomyopathy_sound_aortic_valve_range\",\"pulmonary_hypertension_sound_aortic_valve_range\",\"tetralogy_of_fallot_sound_aortic_valve_range\",\"ventricular_aneurysm_sound_aortic_valve_range\",\"ebstein_anomaly_sound_aortic_valve_range\","
     ]
    }
   ],
   "source": [
    "for x in aortic_ranges:\n",
    "    print(\"\\\"{}\\\"\".format(x),end=\",\")"
   ]
  },
  {
   "cell_type": "code",
   "execution_count": 9,
   "metadata": {},
   "outputs": [
    {
     "name": "stdout",
     "output_type": "stream",
     "text": [
      "\"normal_heart_sound_pulmonary_valve_range\",\"split_first_heart_sound_pulmonary_valve_range\",\"split_second_heart_sound_pulmonary_valve_range\",\"third_heart_sound_pulmonary_valve_range\",\"fourth_heart_sound_pulmonary_valve_range\",\"functional_murmur_sound_pulmonary_valve_range\",\"diastolic_murmur_sound_pulmonary_valve_range\",\"opening_snap_sound_pulmonary_valve_range\",\"holosystolic_murmur_sound_pulmonary_valve_range\",\"early_systolic_murmur_sound_pulmonary_valve_range\",\"mid_systolic_murmur_sound_pulmonary_valve_range\",\"continuous_murmur_sound_pulmonary_valve_range\",\"austin_flint_murmur_sound_pulmonary_valve_range\",\"pericardial_rub_sound_pulmonary_valve_range\",\"graham_steell_murmur_sound_pulmonary_valve_range\",\"aortic_valve_regurgitation_sound_pulmonary_valve_range\",\"aortic_valve_stenosis_sound_pulmonary_valve_range\",\"aortic_valve_stenosis_regurgitation_sound_pulmonary_valve_range\",\"congenital_aortic_stenosis_sound_pulmonary_valve_range\",\"mitral_valve_regurgitation_sound_pulmonary_valve_range\",\"mitral_valve_stenosis_sound_pulmonary_valve_range\",\"mitral_valve_prelapse_sound_pulmonary_valve_range\",\"mitral_stenosis_regurgitation_sound_pulmonary_valve_range\",\"mitral_stenosis_tricuspid_regurgitation_sound_pulmonary_valve_range\",\"pulmonary_valve_stenosis_sound_pulmonary_valve_range\",\"pulmonary_valve_regurgitation_sound_pulmonary_valve_range\",\"tricuspid_valve_regurgitation_sound_pulmonary_valve_range\",\"coarctation_of_the_aorta_sound_pulmonary_valve_range\",\"hypertrophic_cardiomyopathy_sound_pulmonary_valve_range\",\"patent_ductus_arteriosus_sound_pulmonary_valve_range\",\"atrial_septal_defect_sound_pulmonary_valve_range\",\"ventricular_septal_defect_sound_pulmonary_valve_range\",\"acute_myocardial_infarction_sound_pulmonary_valve_range\",\"congestive_heart_failure_sound_pulmonary_valve_range\",\"systemic_hypertension_sound_pulmonary_valve_range\",\"acute_pericarditis_sound_pulmonary_valve_range\",\"dilated_cardiomyopathy_sound_pulmonary_valve_range\",\"pulmonary_hypertension_sound_pulmonary_valve_range\",\"tetralogy_of_fallot_sound_pulmonary_valve_range\",\"ventricular_aneurysm_sound_pulmonary_valve_range\",\"ebstein_anomaly_sound_pulmonary_valve_range\","
     ]
    }
   ],
   "source": [
    "for x in pulmonary_ranges:\n",
    "    print(\"\\\"{}\\\"\".format(x),end=\",\")"
   ]
  },
  {
   "cell_type": "code",
   "execution_count": 11,
   "metadata": {},
   "outputs": [
    {
     "name": "stdout",
     "output_type": "stream",
     "text": [
      "\"normal_heart_sound_tricuspid_valve_range\",\"split_first_heart_sound_tricuspid_valve_range\",\"split_second_heart_sound_tricuspid_valve_range\",\"third_heart_sound_tricuspid_valve_range\",\"fourth_heart_sound_tricuspid_valve_range\",\"functional_murmur_sound_tricuspid_valve_range\",\"diastolic_murmur_sound_tricuspid_valve_range\",\"opening_snap_sound_tricuspid_valve_range\",\"holosystolic_murmur_sound_tricuspid_valve_range\",\"early_systolic_murmur_sound_tricuspid_valve_range\",\"mid_systolic_murmur_sound_tricuspid_valve_range\",\"continuous_murmur_sound_tricuspid_valve_range\",\"austin_flint_murmur_sound_tricuspid_valve_range\",\"pericardial_rub_sound_tricuspid_valve_range\",\"graham_steell_murmur_sound_tricuspid_valve_range\",\"aortic_valve_regurgitation_sound_tricuspid_valve_range\",\"aortic_valve_stenosis_sound_tricuspid_valve_range\",\"aortic_valve_stenosis_regurgitation_sound_tricuspid_valve_range\",\"congenital_aortic_stenosis_sound_tricuspid_valve_range\",\"mitral_valve_regurgitation_sound_tricuspid_valve_range\",\"mitral_valve_stenosis_sound_tricuspid_valve_range\",\"mitral_valve_prelapse_sound_tricuspid_valve_range\",\"mitral_stenosis_regurgitation_sound_tricuspid_valve_range\",\"mitral_stenosis_tricuspid_regurgitation_sound_tricuspid_valve_range\",\"pulmonary_valve_stenosis_sound_tricuspid_valve_range\",\"pulmonary_valve_regurgitation_sound_tricuspid_valve_range\",\"tricuspid_valve_regurgitation_sound_tricuspid_valve_range\",\"coarctation_of_the_aorta_sound_tricuspid_valve_range\",\"hypertrophic_cardiomyopathy_sound_tricuspid_valve_range\",\"patent_ductus_arteriosus_sound_tricuspid_valve_range\",\"atrial_septal_defect_sound_tricuspid_valve_range\",\"ventricular_septal_defect_sound_tricuspid_valve_range\",\"acute_myocardial_infarction_sound_tricuspid_valve_range\",\"congestive_heart_failure_sound_tricuspid_valve_range\",\"systemic_hypertension_sound_tricuspid_valve_range\",\"acute_pericarditis_sound_tricuspid_valve_range\",\"dilated_cardiomyopathy_sound_tricuspid_valve_range\",\"pulmonary_hypertension_sound_tricuspid_valve_range\",\"tetralogy_of_fallot_sound_tricuspid_valve_range\",\"ventricular_aneurysm_sound_tricuspid_valve_range\",\"ebstein_anomaly_sound_tricuspid_valve_range\","
     ]
    }
   ],
   "source": [
    "for x in tricuspid_ranges:\n",
    "    print(\"\\\"{}\\\"\".format(x),end=\",\")"
   ]
  },
  {
   "cell_type": "code",
   "execution_count": 12,
   "metadata": {},
   "outputs": [
    {
     "name": "stdout",
     "output_type": "stream",
     "text": [
      "\"normal_heart_sound_erbs_point_range\",\"split_first_heart_sound_erbs_point_range\",\"split_second_heart_sound_erbs_point_range\",\"third_heart_sound_erbs_point_range\",\"fourth_heart_sound_erbs_point_range\",\"functional_murmur_sound_erbs_point_range\",\"diastolic_murmur_sound_erbs_point_range\",\"opening_snap_sound_erbs_point_range\",\"holosystolic_murmur_sound_erbs_point_range\",\"early_systolic_murmur_sound_erbs_point_range\",\"mid_systolic_murmur_sound_erbs_point_range\",\"continuous_murmur_sound_erbs_point_range\",\"austin_flint_murmur_sound_erbs_point_range\",\"pericardial_rub_sound_erbs_point_range\",\"graham_steell_murmur_sound_erbs_point_range\",\"aortic_valve_regurgitation_sound_erbs_point_range\",\"aortic_valve_stenosis_sound_erbs_point_range\",\"aortic_valve_stenosis_regurgitation_sound_erbs_point_range\",\"congenital_aortic_stenosis_sound_erbs_point_range\",\"mitral_valve_regurgitation_sound_erbs_point_range\",\"mitral_valve_stenosis_sound_erbs_point_range\",\"mitral_valve_prelapse_sound_erbs_point_range\",\"mitral_stenosis_regurgitation_sound_erbs_point_range\",\"mitral_stenosis_tricuspid_regurgitation_sound_erbs_point_range\",\"pulmonary_valve_stenosis_sound_erbs_point_range\",\"pulmonary_valve_regurgitation_sound_erbs_point_range\",\"tricuspid_valve_regurgitation_sound_erbs_point_range\",\"coarctation_of_the_aorta_sound_erbs_point_range\",\"hypertrophic_cardiomyopathy_sound_erbs_point_range\",\"patent_ductus_arteriosus_sound_erbs_point_range\",\"atrial_septal_defect_sound_erbs_point_range\",\"ventricular_septal_defect_sound_erbs_point_range\",\"acute_myocardial_infarction_sound_erbs_point_range\",\"congestive_heart_failure_sound_erbs_point_range\",\"systemic_hypertension_sound_erbs_point_range\",\"acute_pericarditis_sound_erbs_point_range\",\"dilated_cardiomyopathy_sound_erbs_point_range\",\"pulmonary_hypertension_sound_erbs_point_range\",\"tetralogy_of_fallot_sound_erbs_point_range\",\"ventricular_aneurysm_sound_erbs_point_range\",\"ebstein_anomaly_sound_erbs_point_range\","
     ]
    }
   ],
   "source": [
    "for x in erb_ranges:\n",
    "    print(\"\\\"{}\\\"\".format(x),end=\",\")"
   ]
  },
  {
   "cell_type": "code",
   "execution_count": null,
   "metadata": {},
   "outputs": [],
   "source": []
  }
 ],
 "metadata": {
  "kernelspec": {
   "display_name": "Python 3",
   "language": "python",
   "name": "python3"
  },
  "language_info": {
   "codemirror_mode": {
    "name": "ipython",
    "version": 3
   },
   "file_extension": ".py",
   "mimetype": "text/x-python",
   "name": "python",
   "nbconvert_exporter": "python",
   "pygments_lexer": "ipython3",
   "version": "3.11.1"
  }
 },
 "nbformat": 4,
 "nbformat_minor": 2
}
