{
 "cells": [
  {
   "cell_type": "code",
   "execution_count": 1,
   "metadata": {},
   "outputs": [],
   "source": [
    "lungsFrontID = [\"brochial_respiration_front_sound_LUL_range\",\"brochial_respiration_front_sound_LLL_range\",\"brochial_respiration_front_sound_RUL_range\",\"brochial_respiration_front_sound_RML_range\",\"brochial_respiration_front_sound_RLL_range\",\"bronchovesicular_respiration_front_sound_LUL_range\",\"bronchovesicular_respiration_front_sound_LLL_range\",\"bronchovesicular_respiration_front_sound_RUL_range\",\"bronchovesicular_respiration_front_sound_RML_range\",\"bronchovesicular_respiration_front_sound_RLL_range\",\"vesicular_respiration_front_sound_LUL_range\",\"vesicular_respiration_front_sound_LLL_range\",\"vesicular_respiration_front_sound_RUL_range\",\"vesicular_respiration_front_sound_RML_range\",\"vesicular_respiration_front_sound_RLL_range\",\"diminished_vescicular_respiration_front_sound_LUL_range\",\"diminished_vescicular_respiration_front_sound_LLL_range\",\"diminished_vescicular_respiration_front_sound_RUL_range\",\"diminished_vescicular_respiration_front_sound_RML_range\",\"diminished_vescicular_respiration_front_sound_RLL_range\",\"coarse_crackles_front_sound_LUL_range\",\"coarse_crackles_front_sound_LLL_range\",\"coarse_crackles_front_sound_RUL_range\",\"coarse_crackles_front_sound_RML_range\",\"coarse_crackles_front_sound_RLL_range\",\"fine_crackles_front_sound_LUL_range\",\"fine_crackles_front_sound_LLL_range\",\"fine_crackles_front_sound_RUL_range\",\"fine_crackles_front_sound_RML_range\",\"fine_crackles_front_sound_RLL_range\",\"wheezes_front_sound_LUL_range\",\"wheezes_front_sound_LLL_range\",\"wheezes_front_sound_RUL_range\",\"wheezes_front_sound_RML_range\",\"wheezes_front_sound_RLL_range\",\"rhonchi_front_sound_LUL_range\",\"rhonchi_front_sound_LLL_range\",\"rhonchi_front_sound_RUL_range\",\"rhonchi_front_sound_RML_range\",\"rhonchi_front_sound_RLL_range\",\"gurgling_rhonchi_front_sound_LUL_range\",\"gurgling_rhonchi_front_sound_LLL_range\",\"gurgling_rhonchi_front_sound_RUL_range\",\"gurgling_rhonchi_front_sound_RML_range\",\"gurgling_rhonchi_front_sound_RLL_range\",\"stridor_front_sound_LUL_range\",\"stridor_front_sound_LLL_range\",\"stridor_front_sound_RUL_range\",\"stridor_front_sound_RML_range\",\"stridor_front_sound_RLL_range\",\"pleural_friction_rub_front_sound_LUL_range\",\"pleural_friction_rub_front_sound_LLL_range\",\"pleural_friction_rub_front_sound_RUL_range\",\"pleural_friction_rub_front_sound_RML_range\",\"pleural_friction_rub_front_sound_RLL_range\",\"amphoric_respiration_front_sound_LUL_range\",\"amphoric_respiration_front_sound_LLL_range\",\"amphoric_respiration_front_sound_RUL_range\",\"amphoric_respiration_front_sound_RML_range\",\"amphoric_respiration_front_sound_RLL_range\",\"harsh_respiration_front_sound_LUL_range\",\"harsh_respiration_front_sound_LLL_range\",\"harsh_respiration_front_sound_RUL_range\",\"harsh_respiration_front_sound_RML_range\",\"harsh_respiration_front_sound_RLL_range\",\"asthma_front_sound_LUL_range\",\"asthma_front_sound_LLL_range\",\"asthma_front_sound_RUL_range\",\"asthma_front_sound_RML_range\",\"asthma_front_sound_RLL_range\",\"covid19_front_sound_LUL_range\",\"covid19_front_sound_LLL_range\",\"covid19_front_sound_RUL_range\",\"covid19_front_sound_RML_range\",\"covid19_front_sound_RLL_range\",\"right_sided_pneumothorax_front_sound_LUL_range\",\"right_sided_pneumothorax_front_sound_LLL_range\",\"right_sided_pneumothorax_front_sound_RUL_range\",\"right_sided_pneumothorax_front_sound_RML_range\",\"right_sided_pneumothorax_front_sound_RLL_range\",\"left_sided_pneumothorax_front_sound_LUL_range\",\"left_sided_pneumothorax_front_sound_LLL_range\",\"left_sided_pneumothorax_front_sound_RUL_range\",\"left_sided_pneumothorax_front_sound_RML_range\",\"left_sided_pneumothorax_front_sound_RLL_range\",\"pneumonia_front_sound_LUL_range\",\"pneumonia_front_sound_LLL_range\",\"pneumonia_front_sound_RUL_range\",\"pneumonia_front_sound_RML_range\",\"pneumonia_front_sound_RLL_range\"]\n",
    "lungsBackID = [\"brochial_respiration_back_sound_LUL_range\",\"brochial_respiration_back_sound_LML_range\",\"brochial_respiration_back_sound_LLL_range\",\"brochial_respiration_back_sound_RUL_range\",\"brochial_respiration_back_sound_RML_range\",\"brochial_respiration_back_sound_RLL_range\",\"bronchovesicular_respiration_back_sound_LUL_range\",\"bronchovesicular_respiration_back_sound_LML_range\",\"bronchovesicular_respiration_back_sound_LLL_range\",\"bronchovesicular_respiration_back_sound_RUL_range\",\"bronchovesicular_respiration_back_sound_RML_range\",\"bronchovesicular_respiration_back_sound_RLL_range\",\"vesicular_respiration_back_sound_LUL_range\",\"vesicular_respiration_back_sound_LML_range\",\"vesicular_respiration_back_sound_LLL_range\",\"vesicular_respiration_back_sound_RUL_range\",\"vesicular_respiration_back_sound_RML_range\",\"vesicular_respiration_back_sound_RLL_range\",\"diminished_vescicular_respiration_back_sound_LUL_range\",\"diminished_vescicular_respiration_back_sound_LML_range\",\"diminished_vescicular_respiration_back_sound_LLL_range\",\"diminished_vescicular_respiration_back_sound_RUL_range\",\"diminished_vescicular_respiration_back_sound_RML_range\",\"diminished_vescicular_respiration_back_sound_RLL_range\",\"coarse_crackles_back_sound_LUL_range\",\"coarse_crackles_back_sound_LML_range\",\"coarse_crackles_back_sound_LLL_range\",\"coarse_crackles_back_sound_RUL_range\",\"coarse_crackles_back_sound_RML_range\",\"coarse_crackles_back_sound_RLL_range\",\"fine_crackles_back_sound_LUL_range\",\"fine_crackles_back_sound_LML_range\",\"fine_crackles_back_sound_LLL_range\",\"fine_crackles_back_sound_RUL_range\",\"fine_crackles_back_sound_RML_range\",\"fine_crackles_back_sound_RLL_range\",\"wheezes_back_sound_LUL_range\",\"wheezes_back_sound_LML_range\",\"wheezes_back_sound_LLL_range\",\"wheezes_back_sound_RUL_range\",\"wheezes_back_sound_RML_range\",\"wheezes_back_sound_RLL_range\",\"rhonchi_back_sound_LUL_range\",\"rhonchi_back_sound_LML_range\",\"rhonchi_back_sound_LLL_range\",\"rhonchi_back_sound_RUL_range\",\"rhonchi_back_sound_RML_range\",\"rhonchi_back_sound_RLL_range\",\"gurgling_rhonchi_back_sound_LUL_range\",\"gurgling_rhonchi_back_sound_LML_range\",\"gurgling_rhonchi_back_sound_LLL_range\",\"gurgling_rhonchi_back_sound_RUL_range\",\"gurgling_rhonchi_back_sound_RML_range\",\"gurgling_rhonchi_back_sound_RLL_range\",\"stridor_back_sound_LUL_range\",\"stridor_back_sound_LML_range\",\"stridor_back_sound_LLL_range\",\"stridor_back_sound_RUL_range\",\"stridor_back_sound_RML_range\",\"stridor_back_sound_RLL_range\",\"pleural_friction_rub_back_sound_LUL_range\",\"pleural_friction_rub_back_sound_LML_range\",\"pleural_friction_rub_back_sound_LLL_range\",\"pleural_friction_rub_back_sound_RUL_range\",\"pleural_friction_rub_back_sound_RML_range\",\"pleural_friction_rub_back_sound_RLL_range\",\"amphoric_respiration_back_sound_LUL_range\",\"amphoric_respiration_back_sound_LML_range\",\"amphoric_respiration_back_sound_LLL_range\",\"amphoric_respiration_back_sound_RUL_range\",\"amphoric_respiration_back_sound_RML_range\",\"amphoric_respiration_back_sound_RLL_range\",\"harsh_respiration_back_sound_LUL_range\",\"harsh_respiration_back_sound_LML_range\",\"harsh_respiration_back_sound_LLL_range\",\"harsh_respiration_back_sound_RUL_range\",\"harsh_respiration_back_sound_RML_range\",\"harsh_respiration_back_sound_RLL_range\",\"asthma_back_sound_LUL_range\",\"asthma_back_sound_LML_range\",\"asthma_back_sound_LLL_range\",\"asthma_back_sound_RUL_range\",\"asthma_back_sound_RML_range\",\"asthma_back_sound_RLL_range\",\"covid19_back_sound_LUL_range\",\"covid19_back_sound_LML_range\",\"covid19_back_sound_LLL_range\",\"covid19_back_sound_RUL_range\",\"covid19_back_sound_RML_range\",\"covid19_back_sound_RLL_range\",\"right_sided_pneumothorax_back_sound_LUL_range\",\"right_sided_pneumothorax_back_sound_LML_range\",\"right_sided_pneumothorax_back_sound_LLL_range\",\"right_sided_pneumothorax_back_sound_RUL_range\",\"right_sided_pneumothorax_back_sound_RML_range\",\"right_sided_pneumothorax_back_sound_RLL_range\",\"left_sided_pneumothorax_back_sound_LUL_range\",\"left_sided_pneumothorax_back_sound_LML_range\",\"left_sided_pneumothorax_back_sound_LLL_range\",\"left_sided_pneumothorax_back_sound_RUL_range\",\"left_sided_pneumothorax_back_sound_RML_range\",\"left_sided_pneumothorax_back_sound_RLL_range\",\"pneumonia_back_sound_LUL_range\",\"pneumonia_back_sound_LML_range\",\"pneumonia_back_sound_LLL_range\",\"pneumonia_back_sound_RUL_range\",\"pneumonia_back_sound_RML_range\",\"pneumonia_back_sound_RLL_range\"]\n",
    "bowelID = [\"normal_bowel_sound_LUQ_range\",\"normal_bowel_sound_LLQ_range\",\"normal_bowel_sound_RUQ_range\",\"normal_bowel_sound_RLQ_range\",\"hyperactive_sound_LUQ_range\",\"hyperactive_sound_LLQ_range\",\"hyperactive_sound_RUQ_range\",\"hyperactive_sound_RLQ_range\",\"hypoactive_sound_LUQ_range\",\"hypoactive_sound_LLQ_range\",\"hypoactive_sound_RUQ_range\",\"hypoactive_sound_RLQ_range\",\"borborygmus_sound_LUQ_range\",\"borborygmus_sound_LLQ_range\",\"borborygmus_sound_RUQ_range\",\"borborygmus_sound_RLQ_range\",\"captement_sound_LUQ_range\",\"captement_sound_LLQ_range\",\"captement_sound_RUQ_range\",\"captement_sound_RLQ_range\",\"peritoneal_friction_rub_sound_LUQ_range\",\"peritoneal_friction_rub_sound_LLQ_range\",\"peritoneal_friction_rub_sound_RUQ_range\",\"peritoneal_friction_rub_sound_RLQ_range\",\"normal_bowel_sound_with_bruits_sound_LUQ_range\",\"normal_bowel_sound_with_bruits_sound_LLQ_range\",\"normal_bowel_sound_with_bruits_sound_RUQ_range\",\"normal_bowel_sound_with_bruits_sound_RLQ_range\",\"irritable_bowel_syndrome_sound_LUQ_range\",\"irritable_bowel_syndrome_sound_LLQ_range\",\"irritable_bowel_syndrome_sound_RUQ_range\",\"irritable_bowel_syndrome_sound_RLQ_range\",\"diarrhea_sound_LUQ_range\",\"diarrhea_sound_LLQ_range\",\"diarrhea_sound_RUQ_range\",\"diarrhea_sound_RLQ_range\",\"bruits_due_to_renal_arteries_stenosis_sound_LUQ_range\",\"bruits_due_to_renal_arteries_stenosis_sound_LLQ_range\",\"bruits_due_to_renal_arteries_stenosis_sound_RUQ_range\",\"bruits_due_to_renal_arteries_stenosis_sound_RLQ_range\",\"constipation_sound_LUQ_range\",\"constipation_sound_LLQ_range\",\"constipation_sound_RUQ_range\",\"constipation_sound_RLQ_range\",\"ulcerative_colitis_sound_LUQ_range\",\"ulcerative_colitis_sound_LLQ_range\",\"ulcerative_colitis_sound_RUQ_range\",\"ulcerative_colitis_sound_RLQ_range\",\"crohns_disease_sound_LUQ_range\",\"crohns_disease_sound_LLQ_range\",\"crohns_disease_sound_RUQ_range\",\"crohns_disease_sound_RLQ_range\",\"paralytic_ileus_sound_LUQ_range\",\"paralytic_ileus_sound_LLQ_range\",\"paralytic_ileus_sound_RUQ_range\",\"paralytic_ileus_sound_RLQ_range\"]"
   ]
  },
  {
   "cell_type": "code",
   "execution_count": 2,
   "metadata": {},
   "outputs": [],
   "source": [
    "lungsFrontID_LUL = []\n",
    "lungsFrontID_LLL = []\n",
    "lungsFrontID_RUL = []\n",
    "lungsFrontID_RML = []\n",
    "lungsFrontID_RLL = []"
   ]
  },
  {
   "cell_type": "code",
   "execution_count": 3,
   "metadata": {},
   "outputs": [],
   "source": [
    "lungsBackID_LUL = []\n",
    "lungsBackID_LML = []\n",
    "lungsBackID_LLL = []\n",
    "lungsBackID_RUL = []\n",
    "lungsBackID_RML = []\n",
    "lungsBackID_RLL = []"
   ]
  },
  {
   "cell_type": "code",
   "execution_count": 4,
   "metadata": {},
   "outputs": [],
   "source": [
    "bowelID_LUQ = []\n",
    "bowelID_LLQ = []\n",
    "bowelID_RUQ = []\n",
    "bowelID_RLQ = []"
   ]
  },
  {
   "cell_type": "code",
   "execution_count": 5,
   "metadata": {},
   "outputs": [],
   "source": [
    "for x in lungsFrontID:\n",
    "    if x.endswith(\"LUL_range\"):\n",
    "        lungsFrontID_LUL.append(x)\n",
    "    elif x.endswith(\"LLL_range\"):\n",
    "        lungsFrontID_LLL.append(x)\n",
    "    elif x.endswith(\"RUL_range\"):\n",
    "        lungsFrontID_RUL.append(x)\n",
    "    elif x.endswith(\"RML_range\"):\n",
    "        lungsFrontID_RML.append(x)\n",
    "    elif x.endswith(\"RLL_range\"):\n",
    "        lungsFrontID_RLL.append(x)"
   ]
  },
  {
   "cell_type": "code",
   "execution_count": 7,
   "metadata": {},
   "outputs": [],
   "source": [
    "for x in lungsBackID:\n",
    "    if x.endswith(\"LUL_range\"):\n",
    "        lungsBackID_LUL.append(x)\n",
    "    elif x.endswith(\"LML_range\"):\n",
    "        lungsBackID_LML.append(x)\n",
    "    elif x.endswith(\"LLL_range\"):\n",
    "        lungsBackID_LLL.append(x)\n",
    "    elif x.endswith(\"RUL_range\"):\n",
    "        lungsBackID_RUL.append(x)\n",
    "    elif x.endswith(\"RML_range\"):\n",
    "        lungsBackID_RML.append(x)\n",
    "    elif x.endswith(\"RLL_range\"):\n",
    "        lungsBackID_RLL.append(x)"
   ]
  },
  {
   "cell_type": "code",
   "execution_count": 9,
   "metadata": {},
   "outputs": [],
   "source": [
    "for x in bowelID:\n",
    "    if x.endswith(\"LUQ_range\"):\n",
    "        bowelID_LUQ.append(x)\n",
    "    elif x.endswith(\"LLQ_range\"):\n",
    "        bowelID_LLQ.append(x)\n",
    "    elif x.endswith(\"RUQ_range\"):\n",
    "        bowelID_RUQ.append(x)\n",
    "    elif x.endswith(\"RLQ_range\"):\n",
    "        bowelID_RLQ.append(x)"
   ]
  },
  {
   "cell_type": "code",
   "execution_count": 10,
   "metadata": {},
   "outputs": [],
   "source": [
    "def printLinear(lst):\n",
    "    for x in lst:\n",
    "        print(\"\\\"{}\\\"\".format(x), end=\",\")"
   ]
  },
  {
   "cell_type": "code",
   "execution_count": 12,
   "metadata": {},
   "outputs": [
    {
     "name": "stdout",
     "output_type": "stream",
     "text": [
      "\"brochial_respiration_front_sound_LUL_range\",\"bronchovesicular_respiration_front_sound_LUL_range\",\"vesicular_respiration_front_sound_LUL_range\",\"diminished_vescicular_respiration_front_sound_LUL_range\",\"coarse_crackles_front_sound_LUL_range\",\"fine_crackles_front_sound_LUL_range\",\"wheezes_front_sound_LUL_range\",\"rhonchi_front_sound_LUL_range\",\"gurgling_rhonchi_front_sound_LUL_range\",\"stridor_front_sound_LUL_range\",\"pleural_friction_rub_front_sound_LUL_range\",\"amphoric_respiration_front_sound_LUL_range\",\"harsh_respiration_front_sound_LUL_range\",\"asthma_front_sound_LUL_range\",\"covid19_front_sound_LUL_range\",\"right_sided_pneumothorax_front_sound_LUL_range\",\"left_sided_pneumothorax_front_sound_LUL_range\",\"pneumonia_front_sound_LUL_range\",\n",
      "\n",
      "\"brochial_respiration_front_sound_LLL_range\",\"bronchovesicular_respiration_front_sound_LLL_range\",\"vesicular_respiration_front_sound_LLL_range\",\"diminished_vescicular_respiration_front_sound_LLL_range\",\"coarse_crackles_front_sound_LLL_range\",\"fine_crackles_front_sound_LLL_range\",\"wheezes_front_sound_LLL_range\",\"rhonchi_front_sound_LLL_range\",\"gurgling_rhonchi_front_sound_LLL_range\",\"stridor_front_sound_LLL_range\",\"pleural_friction_rub_front_sound_LLL_range\",\"amphoric_respiration_front_sound_LLL_range\",\"harsh_respiration_front_sound_LLL_range\",\"asthma_front_sound_LLL_range\",\"covid19_front_sound_LLL_range\",\"right_sided_pneumothorax_front_sound_LLL_range\",\"left_sided_pneumothorax_front_sound_LLL_range\",\"pneumonia_front_sound_LLL_range\",\n",
      "\n",
      "\"brochial_respiration_front_sound_RUL_range\",\"bronchovesicular_respiration_front_sound_RUL_range\",\"vesicular_respiration_front_sound_RUL_range\",\"diminished_vescicular_respiration_front_sound_RUL_range\",\"coarse_crackles_front_sound_RUL_range\",\"fine_crackles_front_sound_RUL_range\",\"wheezes_front_sound_RUL_range\",\"rhonchi_front_sound_RUL_range\",\"gurgling_rhonchi_front_sound_RUL_range\",\"stridor_front_sound_RUL_range\",\"pleural_friction_rub_front_sound_RUL_range\",\"amphoric_respiration_front_sound_RUL_range\",\"harsh_respiration_front_sound_RUL_range\",\"asthma_front_sound_RUL_range\",\"covid19_front_sound_RUL_range\",\"right_sided_pneumothorax_front_sound_RUL_range\",\"left_sided_pneumothorax_front_sound_RUL_range\",\"pneumonia_front_sound_RUL_range\",\n",
      "\n",
      "\"brochial_respiration_front_sound_RML_range\",\"bronchovesicular_respiration_front_sound_RML_range\",\"vesicular_respiration_front_sound_RML_range\",\"diminished_vescicular_respiration_front_sound_RML_range\",\"coarse_crackles_front_sound_RML_range\",\"fine_crackles_front_sound_RML_range\",\"wheezes_front_sound_RML_range\",\"rhonchi_front_sound_RML_range\",\"gurgling_rhonchi_front_sound_RML_range\",\"stridor_front_sound_RML_range\",\"pleural_friction_rub_front_sound_RML_range\",\"amphoric_respiration_front_sound_RML_range\",\"harsh_respiration_front_sound_RML_range\",\"asthma_front_sound_RML_range\",\"covid19_front_sound_RML_range\",\"right_sided_pneumothorax_front_sound_RML_range\",\"left_sided_pneumothorax_front_sound_RML_range\",\"pneumonia_front_sound_RML_range\",\n",
      "\n",
      "\"brochial_respiration_front_sound_RLL_range\",\"bronchovesicular_respiration_front_sound_RLL_range\",\"vesicular_respiration_front_sound_RLL_range\",\"diminished_vescicular_respiration_front_sound_RLL_range\",\"coarse_crackles_front_sound_RLL_range\",\"fine_crackles_front_sound_RLL_range\",\"wheezes_front_sound_RLL_range\",\"rhonchi_front_sound_RLL_range\",\"gurgling_rhonchi_front_sound_RLL_range\",\"stridor_front_sound_RLL_range\",\"pleural_friction_rub_front_sound_RLL_range\",\"amphoric_respiration_front_sound_RLL_range\",\"harsh_respiration_front_sound_RLL_range\",\"asthma_front_sound_RLL_range\",\"covid19_front_sound_RLL_range\",\"right_sided_pneumothorax_front_sound_RLL_range\",\"left_sided_pneumothorax_front_sound_RLL_range\",\"pneumonia_front_sound_RLL_range\","
     ]
    }
   ],
   "source": [
    "printLinear(lungsFrontID_LUL)\n",
    "print(\"\\n\")\n",
    "printLinear(lungsFrontID_LLL)\n",
    "print(\"\\n\")\n",
    "printLinear(lungsFrontID_RUL)\n",
    "print(\"\\n\")\n",
    "printLinear(lungsFrontID_RML)\n",
    "print(\"\\n\")\n",
    "printLinear(lungsFrontID_RLL)"
   ]
  },
  {
   "cell_type": "code",
   "execution_count": 13,
   "metadata": {},
   "outputs": [
    {
     "name": "stdout",
     "output_type": "stream",
     "text": [
      "\"brochial_respiration_back_sound_LUL_range\",\"bronchovesicular_respiration_back_sound_LUL_range\",\"vesicular_respiration_back_sound_LUL_range\",\"diminished_vescicular_respiration_back_sound_LUL_range\",\"coarse_crackles_back_sound_LUL_range\",\"fine_crackles_back_sound_LUL_range\",\"wheezes_back_sound_LUL_range\",\"rhonchi_back_sound_LUL_range\",\"gurgling_rhonchi_back_sound_LUL_range\",\"stridor_back_sound_LUL_range\",\"pleural_friction_rub_back_sound_LUL_range\",\"amphoric_respiration_back_sound_LUL_range\",\"harsh_respiration_back_sound_LUL_range\",\"asthma_back_sound_LUL_range\",\"covid19_back_sound_LUL_range\",\"right_sided_pneumothorax_back_sound_LUL_range\",\"left_sided_pneumothorax_back_sound_LUL_range\",\"pneumonia_back_sound_LUL_range\",\n",
      "\n",
      "\"brochial_respiration_back_sound_LML_range\",\"bronchovesicular_respiration_back_sound_LML_range\",\"vesicular_respiration_back_sound_LML_range\",\"diminished_vescicular_respiration_back_sound_LML_range\",\"coarse_crackles_back_sound_LML_range\",\"fine_crackles_back_sound_LML_range\",\"wheezes_back_sound_LML_range\",\"rhonchi_back_sound_LML_range\",\"gurgling_rhonchi_back_sound_LML_range\",\"stridor_back_sound_LML_range\",\"pleural_friction_rub_back_sound_LML_range\",\"amphoric_respiration_back_sound_LML_range\",\"harsh_respiration_back_sound_LML_range\",\"asthma_back_sound_LML_range\",\"covid19_back_sound_LML_range\",\"right_sided_pneumothorax_back_sound_LML_range\",\"left_sided_pneumothorax_back_sound_LML_range\",\"pneumonia_back_sound_LML_range\",\n",
      "\n",
      "\"brochial_respiration_back_sound_LLL_range\",\"bronchovesicular_respiration_back_sound_LLL_range\",\"vesicular_respiration_back_sound_LLL_range\",\"diminished_vescicular_respiration_back_sound_LLL_range\",\"coarse_crackles_back_sound_LLL_range\",\"fine_crackles_back_sound_LLL_range\",\"wheezes_back_sound_LLL_range\",\"rhonchi_back_sound_LLL_range\",\"gurgling_rhonchi_back_sound_LLL_range\",\"stridor_back_sound_LLL_range\",\"pleural_friction_rub_back_sound_LLL_range\",\"amphoric_respiration_back_sound_LLL_range\",\"harsh_respiration_back_sound_LLL_range\",\"asthma_back_sound_LLL_range\",\"covid19_back_sound_LLL_range\",\"right_sided_pneumothorax_back_sound_LLL_range\",\"left_sided_pneumothorax_back_sound_LLL_range\",\"pneumonia_back_sound_LLL_range\",\n",
      "\n",
      "\"brochial_respiration_back_sound_RUL_range\",\"bronchovesicular_respiration_back_sound_RUL_range\",\"vesicular_respiration_back_sound_RUL_range\",\"diminished_vescicular_respiration_back_sound_RUL_range\",\"coarse_crackles_back_sound_RUL_range\",\"fine_crackles_back_sound_RUL_range\",\"wheezes_back_sound_RUL_range\",\"rhonchi_back_sound_RUL_range\",\"gurgling_rhonchi_back_sound_RUL_range\",\"stridor_back_sound_RUL_range\",\"pleural_friction_rub_back_sound_RUL_range\",\"amphoric_respiration_back_sound_RUL_range\",\"harsh_respiration_back_sound_RUL_range\",\"asthma_back_sound_RUL_range\",\"covid19_back_sound_RUL_range\",\"right_sided_pneumothorax_back_sound_RUL_range\",\"left_sided_pneumothorax_back_sound_RUL_range\",\"pneumonia_back_sound_RUL_range\",\n",
      "\n",
      "\"brochial_respiration_back_sound_RML_range\",\"bronchovesicular_respiration_back_sound_RML_range\",\"vesicular_respiration_back_sound_RML_range\",\"diminished_vescicular_respiration_back_sound_RML_range\",\"coarse_crackles_back_sound_RML_range\",\"fine_crackles_back_sound_RML_range\",\"wheezes_back_sound_RML_range\",\"rhonchi_back_sound_RML_range\",\"gurgling_rhonchi_back_sound_RML_range\",\"stridor_back_sound_RML_range\",\"pleural_friction_rub_back_sound_RML_range\",\"amphoric_respiration_back_sound_RML_range\",\"harsh_respiration_back_sound_RML_range\",\"asthma_back_sound_RML_range\",\"covid19_back_sound_RML_range\",\"right_sided_pneumothorax_back_sound_RML_range\",\"left_sided_pneumothorax_back_sound_RML_range\",\"pneumonia_back_sound_RML_range\",\n",
      "\n",
      "\"brochial_respiration_back_sound_RLL_range\",\"bronchovesicular_respiration_back_sound_RLL_range\",\"vesicular_respiration_back_sound_RLL_range\",\"diminished_vescicular_respiration_back_sound_RLL_range\",\"coarse_crackles_back_sound_RLL_range\",\"fine_crackles_back_sound_RLL_range\",\"wheezes_back_sound_RLL_range\",\"rhonchi_back_sound_RLL_range\",\"gurgling_rhonchi_back_sound_RLL_range\",\"stridor_back_sound_RLL_range\",\"pleural_friction_rub_back_sound_RLL_range\",\"amphoric_respiration_back_sound_RLL_range\",\"harsh_respiration_back_sound_RLL_range\",\"asthma_back_sound_RLL_range\",\"covid19_back_sound_RLL_range\",\"right_sided_pneumothorax_back_sound_RLL_range\",\"left_sided_pneumothorax_back_sound_RLL_range\",\"pneumonia_back_sound_RLL_range\","
     ]
    }
   ],
   "source": [
    "printLinear(lungsBackID_LUL)\n",
    "print(\"\\n\")\n",
    "printLinear(lungsBackID_LML)\n",
    "print(\"\\n\")\n",
    "printLinear(lungsBackID_LLL)\n",
    "print(\"\\n\")\n",
    "printLinear(lungsBackID_RUL)\n",
    "print(\"\\n\")\n",
    "printLinear(lungsBackID_RML)\n",
    "print(\"\\n\")\n",
    "printLinear(lungsBackID_RLL)"
   ]
  },
  {
   "cell_type": "code",
   "execution_count": 14,
   "metadata": {},
   "outputs": [
    {
     "name": "stdout",
     "output_type": "stream",
     "text": [
      "\"normal_bowel_sound_LUQ_range\",\"hyperactive_sound_LUQ_range\",\"hypoactive_sound_LUQ_range\",\"borborygmus_sound_LUQ_range\",\"captement_sound_LUQ_range\",\"peritoneal_friction_rub_sound_LUQ_range\",\"normal_bowel_sound_with_bruits_sound_LUQ_range\",\"irritable_bowel_syndrome_sound_LUQ_range\",\"diarrhea_sound_LUQ_range\",\"bruits_due_to_renal_arteries_stenosis_sound_LUQ_range\",\"constipation_sound_LUQ_range\",\"ulcerative_colitis_sound_LUQ_range\",\"crohns_disease_sound_LUQ_range\",\"paralytic_ileus_sound_LUQ_range\",\n",
      "\n",
      "\"normal_bowel_sound_LLQ_range\",\"hyperactive_sound_LLQ_range\",\"hypoactive_sound_LLQ_range\",\"borborygmus_sound_LLQ_range\",\"captement_sound_LLQ_range\",\"peritoneal_friction_rub_sound_LLQ_range\",\"normal_bowel_sound_with_bruits_sound_LLQ_range\",\"irritable_bowel_syndrome_sound_LLQ_range\",\"diarrhea_sound_LLQ_range\",\"bruits_due_to_renal_arteries_stenosis_sound_LLQ_range\",\"constipation_sound_LLQ_range\",\"ulcerative_colitis_sound_LLQ_range\",\"crohns_disease_sound_LLQ_range\",\"paralytic_ileus_sound_LLQ_range\",\n",
      "\n",
      "\"normal_bowel_sound_RUQ_range\",\"hyperactive_sound_RUQ_range\",\"hypoactive_sound_RUQ_range\",\"borborygmus_sound_RUQ_range\",\"captement_sound_RUQ_range\",\"peritoneal_friction_rub_sound_RUQ_range\",\"normal_bowel_sound_with_bruits_sound_RUQ_range\",\"irritable_bowel_syndrome_sound_RUQ_range\",\"diarrhea_sound_RUQ_range\",\"bruits_due_to_renal_arteries_stenosis_sound_RUQ_range\",\"constipation_sound_RUQ_range\",\"ulcerative_colitis_sound_RUQ_range\",\"crohns_disease_sound_RUQ_range\",\"paralytic_ileus_sound_RUQ_range\",\n",
      "\n",
      "\"normal_bowel_sound_RLQ_range\",\"hyperactive_sound_RLQ_range\",\"hypoactive_sound_RLQ_range\",\"borborygmus_sound_RLQ_range\",\"captement_sound_RLQ_range\",\"peritoneal_friction_rub_sound_RLQ_range\",\"normal_bowel_sound_with_bruits_sound_RLQ_range\",\"irritable_bowel_syndrome_sound_RLQ_range\",\"diarrhea_sound_RLQ_range\",\"bruits_due_to_renal_arteries_stenosis_sound_RLQ_range\",\"constipation_sound_RLQ_range\",\"ulcerative_colitis_sound_RLQ_range\",\"crohns_disease_sound_RLQ_range\",\"paralytic_ileus_sound_RLQ_range\","
     ]
    }
   ],
   "source": [
    "printLinear(bowelID_LUQ)\n",
    "print(\"\\n\")\n",
    "printLinear(bowelID_LLQ)\n",
    "print(\"\\n\")\n",
    "printLinear(bowelID_RUQ)\n",
    "print(\"\\n\")\n",
    "printLinear(bowelID_RLQ)"
   ]
  },
  {
   "cell_type": "code",
   "execution_count": null,
   "metadata": {},
   "outputs": [],
   "source": []
  }
 ],
 "metadata": {
  "kernelspec": {
   "display_name": "Python 3",
   "language": "python",
   "name": "python3"
  },
  "language_info": {
   "codemirror_mode": {
    "name": "ipython",
    "version": 3
   },
   "file_extension": ".py",
   "mimetype": "text/x-python",
   "name": "python",
   "nbconvert_exporter": "python",
   "pygments_lexer": "ipython3",
   "version": "3.11.1"
  }
 },
 "nbformat": 4,
 "nbformat_minor": 2
}
