{
 "cells": [
  {
   "cell_type": "code",
   "execution_count": 1,
   "metadata": {},
   "outputs": [
    {
     "name": "stdout",
     "output_type": "stream",
     "text": [
      "Renamed: Aortic Valve Stenosis Regurgitation -> Aortic_Valve_Stenosis_Regurgitation\n",
      "Renamed: Mitral Valve Prelapse -> Mitral_Valve_Prelapse\n",
      "Renamed: Ebstein Anomaly -> Ebstein_Anomaly\n",
      "Renamed: Graham Steell Murmur -> Graham_Steell_Murmur\n",
      "Renamed: Holosystolic Murmur -> Holosystolic_Murmur\n",
      "Renamed: Pericardial Rub -> Pericardial_Rub\n",
      "Renamed: Acute Myocardial Infarction -> Acute_Myocardial_Infarction\n",
      "Renamed: Dilated Cardiomyopathy -> Dilated_Cardiomyopathy\n",
      "Renamed: Acute Pericarditis -> Acute_Pericarditis\n",
      "Renamed: Ventricular Septal Defect -> Ventricular_Septal_Defect\n",
      "Renamed: Normal Heart -> Normal_Heart\n",
      "Renamed: Aortic Valve Stenosis -> Aortic_Valve_Stenosis\n",
      "Renamed: Congenital Aortic Stenosis -> Congenital_Aortic_Stenosis\n",
      "Renamed: Mitral Stenosis Tricuspid Regurgitation -> Mitral_Stenosis_Tricuspid_Regurgitation\n",
      "Renamed: Aortic Valve Regurgitation -> Aortic_Valve_Regurgitation\n",
      "Renamed: Patent Ductus Arteriosus -> Patent_Ductus_Arteriosus\n",
      "Renamed: Pulmonary Hypertension -> Pulmonary_Hypertension\n",
      "Renamed: Early Systolic Murmur -> Early_Systolic_Murmur\n",
      "Renamed: Tetralogy of Fallot -> Tetralogy_of_Fallot\n",
      "Renamed: Mitral Valve Regurgitation -> Mitral_Valve_Regurgitation\n",
      "Renamed: Split First Heart -> Split_First_Heart\n",
      "Renamed: Pulmonary Valve Stenosis -> Pulmonary_Valve_Stenosis\n",
      "Renamed: Fourth Heart -> Fourth_Heart\n",
      "Renamed: Congestive Heart Failure -> Congestive_Heart_Failure\n",
      "Renamed: Split Second Heart -> Split_Second_Heart\n",
      "Renamed: Functional Murmur -> Functional_Murmur\n",
      "Renamed: Mid Systolic Murmur -> Mid_Systolic_Murmur\n",
      "Renamed: Coarctation of the Aorta -> Coarctation_of_the_Aorta\n",
      "Renamed: Mitral Stenosis Regurgitation -> Mitral_Stenosis_Regurgitation\n",
      "Renamed: Mitral Valve Stenosis -> Mitral_Valve_Stenosis\n",
      "Renamed: Atrial Septal Defect -> Atrial_Septal_Defect\n",
      "Renamed: Systemic Hypertension -> Systemic_Hypertension\n",
      "Renamed: Continuous Murmur -> Continuous_Murmur\n",
      "Renamed: Tricuspid Valve Regurgitation -> Tricuspid_Valve_Regurgitation\n",
      "Renamed: Third Heart -> Third_Heart\n",
      "Renamed: Pulmonary Valve Regurgitation -> Pulmonary_Valve_Regurgitation\n",
      "Renamed: Austin Flint Murmur -> Austin_Flint_Murmur\n",
      "Renamed: Hypertrophic Cardiomyopathy -> Hypertrophic_Cardiomyopathy\n",
      "Renamed: Opening Snap -> Opening_Snap\n",
      "Renamed: Diastolic Murmur -> Diastolic_Murmur\n",
      "Renamed: Ventricular Aneurysm -> Ventricular_Aneurysm\n"
     ]
    }
   ],
   "source": [
    "import os\n",
    "\n",
    "def rename_subdirectories(directory_path):\n",
    "    # Get the list of subdirectories\n",
    "    subdirectories = [d for d in os.listdir(directory_path) if os.path.isdir(os.path.join(directory_path, d))]\n",
    "\n",
    "    # Rename each subdirectory by replacing spaces with underscores\n",
    "    for subdirectory in subdirectories:\n",
    "        new_name = subdirectory.replace(' ', '_')\n",
    "        old_path = os.path.join(directory_path, subdirectory)\n",
    "        new_path = os.path.join(directory_path, new_name)\n",
    "        os.rename(old_path, new_path)\n",
    "        print(f'Renamed: {subdirectory} -> {new_name}')\n",
    "\n",
    "# Replace 'app/DashApp/HeartSound' with your actual directory path\n",
    "directory_path = 'app/DashApp/HeartSound'\n",
    "rename_subdirectories(directory_path)"
   ]
  },
  {
   "cell_type": "code",
   "execution_count": 1,
   "metadata": {},
   "outputs": [
    {
     "name": "stdout",
     "output_type": "stream",
     "text": [
      "from ..DashApp.HeartSound.Pulmonary_Hypertension import aortic, erb, mitral, pulmonary, tricuspid\n",
      "from ..DashApp.HeartSound.Patent_Ductus_Arteriosus import aortic, erb, mitral, pulmonary, tricuspid\n",
      "from ..DashApp.HeartSound.Tetralogy_of_Fallot import aortic, erb, mitral, pulmonary, tricuspid\n",
      "from ..DashApp.HeartSound.Hypertrophic_Cardiomyopathy import aortic, erb, mitral, pulmonary, tricuspid\n",
      "from ..DashApp.HeartSound.Congestive_Heart_Failure import aortic, erb, mitral, pulmonary, tricuspid\n",
      "from ..DashApp.HeartSound.Holosystolic_Murmur import aortic, erb, mitral, pulmonary, tricuspid\n",
      "from ..DashApp.HeartSound.Graham_Steell_Murmur import aortic, erb, mitral, pulmonary, tricuspid\n",
      "from ..DashApp.HeartSound.Tricuspid_Valve_Regurgitation import aortic, erb, mitral, pulmonary, tricuspid\n",
      "from ..DashApp.HeartSound.Mitral_Valve_Stenosis import aortic, erb, mitral, pulmonary, tricuspid\n",
      "from ..DashApp.HeartSound.Normal_Heart import aortic, erb, mitral, pulmonary, tricuspid\n",
      "from ..DashApp.HeartSound.Mid_Systolic_Murmur import aortic, erb, mitral, pulmonary, tricuspid\n",
      "from ..DashApp.HeartSound.Opening_Snap import aortic, erb, mitral, pulmonary, tricuspid\n",
      "from ..DashApp.HeartSound.Pulmonary_Valve_Regurgitation import aortic, erb, mitral, pulmonary, tricuspid\n",
      "from ..DashApp.HeartSound.Ventricular_Septal_Defect import aortic, erb, mitral, pulmonary, tricuspid\n",
      "from ..DashApp.HeartSound.Acute_Pericarditis import aortic, erb, mitral, pulmonary, tricuspid\n",
      "from ..DashApp.HeartSound.Mitral_Valve_Prelapse import aortic, erb, mitral, pulmonary, tricuspid\n",
      "from ..DashApp.HeartSound.Pericardial_Rub import aortic, erb, mitral, pulmonary, tricuspid\n",
      "from ..DashApp.HeartSound.Third_Heart import aortic, erb, mitral, pulmonary, tricuspid\n",
      "from ..DashApp.HeartSound.Mitral_Stenosis_Tricuspid_Regurgitation import aortic, erb, mitral, pulmonary, tricuspid\n",
      "from ..DashApp.HeartSound.Systemic_Hypertension import aortic, erb, mitral, pulmonary, tricuspid\n",
      "from ..DashApp.HeartSound.Early_Systolic_Murmur import aortic, erb, mitral, pulmonary, tricuspid\n",
      "from ..DashApp.HeartSound.Atrial_Septal_Defect import aortic, erb, mitral, pulmonary, tricuspid\n",
      "from ..DashApp.HeartSound.Congenital_Aortic_Stenosis import aortic, erb, mitral, pulmonary, tricuspid\n",
      "from ..DashApp.HeartSound.Aortic_Valve_Stenosis_Regurgitation import aortic, erb, mitral, pulmonary, tricuspid\n",
      "from ..DashApp.HeartSound.Split_Second_Heart import aortic, erb, mitral, pulmonary, tricuspid\n",
      "from ..DashApp.HeartSound.Mitral_Stenosis_Regurgitation import aortic, erb, mitral, pulmonary, tricuspid\n",
      "from ..DashApp.HeartSound.Ventricular_Aneurysm import aortic, erb, mitral, pulmonary, tricuspid\n",
      "from ..DashApp.HeartSound.Austin_Flint_Murmur import aortic, erb, mitral, pulmonary, tricuspid\n",
      "from ..DashApp.HeartSound.Functional_Murmur import aortic, erb, mitral, pulmonary, tricuspid\n",
      "from ..DashApp.HeartSound.Aortic_Valve_Stenosis import aortic, erb, mitral, pulmonary, tricuspid\n",
      "from ..DashApp.HeartSound.Aortic_Valve_Regurgitation import aortic, erb, mitral, pulmonary, tricuspid\n",
      "from ..DashApp.HeartSound.Continuous_Murmur import aortic, erb, mitral, pulmonary, tricuspid\n",
      "from ..DashApp.HeartSound.Acute_Myocardial_Infarction import aortic, erb, mitral, pulmonary, tricuspid\n",
      "from ..DashApp.HeartSound.Coarctation_of_the_Aorta import aortic, erb, mitral, pulmonary, tricuspid\n",
      "from ..DashApp.HeartSound.Diastolic_Murmur import aortic, erb, mitral, pulmonary, tricuspid\n",
      "from ..DashApp.HeartSound.Ebstein_Anomaly import aortic, erb, mitral, pulmonary, tricuspid\n",
      "from ..DashApp.HeartSound.Pulmonary_Valve_Stenosis import aortic, erb, mitral, pulmonary, tricuspid\n",
      "from ..DashApp.HeartSound.Fourth_Heart import aortic, erb, mitral, pulmonary, tricuspid\n",
      "from ..DashApp.HeartSound.Split_First_Heart import aortic, erb, mitral, pulmonary, tricuspid\n",
      "from ..DashApp.HeartSound.Dilated_Cardiomyopathy import aortic, erb, mitral, pulmonary, tricuspid\n",
      "from ..DashApp.HeartSound.Mitral_Valve_Regurgitation import aortic, erb, mitral, pulmonary, tricuspid\n"
     ]
    }
   ],
   "source": [
    "import os\n",
    "\n",
    "def generate_import_statements(directory_path):\n",
    "    # Get the list of subdirectories\n",
    "    subdirectories = [d for d in os.listdir(directory_path) if os.path.isdir(os.path.join(directory_path, d))]\n",
    "\n",
    "    # Generate import statements\n",
    "    for subdirectory in subdirectories:\n",
    "        import_statement = f\"from ..DashApp.HeartSound.{subdirectory} import aortic, erb, mitral, pulmonary, tricuspid\"\n",
    "        print(import_statement)\n",
    "\n",
    "# Replace 'app/DashApp/HeartSound' with your actual directory path\n",
    "directory_path = 'app/DashApp/HeartSound'\n",
    "generate_import_statements(directory_path)"
   ]
  },
  {
   "cell_type": "code",
   "execution_count": null,
   "metadata": {},
   "outputs": [],
   "source": []
  }
 ],
 "metadata": {
  "kernelspec": {
   "display_name": "Python 3",
   "language": "python",
   "name": "python3"
  },
  "language_info": {
   "codemirror_mode": {
    "name": "ipython",
    "version": 3
   },
   "file_extension": ".py",
   "mimetype": "text/x-python",
   "name": "python",
   "nbconvert_exporter": "python",
   "pygments_lexer": "ipython3",
   "version": "3.11.1"
  }
 },
 "nbformat": 4,
 "nbformat_minor": 2
}
