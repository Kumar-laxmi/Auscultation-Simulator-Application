{
 "cells": [
  {
   "cell_type": "code",
   "execution_count": 5,
   "metadata": {},
   "outputs": [
    {
     "ename": "KeyboardInterrupt",
     "evalue": "",
     "output_type": "error",
     "traceback": [
      "\u001b[0;31m---------------------------------------------------------------------------\u001b[0m",
      "\u001b[0;31mKeyboardInterrupt\u001b[0m                         Traceback (most recent call last)",
      "Cell \u001b[0;32mIn[5], line 8\u001b[0m\n\u001b[1;32m      5\u001b[0m delay\u001b[38;5;241m=\u001b[39m\u001b[38;5;241m60\u001b[39m\u001b[38;5;241m/\u001b[39mbpm\n\u001b[1;32m      7\u001b[0m \u001b[38;5;28;01mwhile\u001b[39;00m \u001b[38;5;28;01mTrue\u001b[39;00m:\n\u001b[0;32m----> 8\u001b[0m     \u001b[43mplaysound\u001b[49m\u001b[43m(\u001b[49m\u001b[38;5;124;43m'\u001b[39;49m\u001b[38;5;124;43mapp/static/audio/heart/normal_heart/A/1.wav\u001b[39;49m\u001b[38;5;124;43m'\u001b[39;49m\u001b[43m)\u001b[49m\n\u001b[1;32m      9\u001b[0m     playsound(\u001b[38;5;124m'\u001b[39m\u001b[38;5;124mapp/static/audio/heart/normal_heart/A/2.wav\u001b[39m\u001b[38;5;124m'\u001b[39m)\n\u001b[1;32m     11\u001b[0m     playsound(\u001b[38;5;124m'\u001b[39m\u001b[38;5;124mapp/static/audio/heart/normal_heart/A/3/090.wav\u001b[39m\u001b[38;5;124m'\u001b[39m)\n",
      "File \u001b[0;32m/Library/Frameworks/Python.framework/Versions/3.11/lib/python3.11/site-packages/playsound.py:144\u001b[0m, in \u001b[0;36m_playsoundOSX\u001b[0;34m(sound, block)\u001b[0m\n\u001b[1;32m    141\u001b[0m nssound\u001b[38;5;241m.\u001b[39mplay()\n\u001b[1;32m    143\u001b[0m \u001b[38;5;28;01mif\u001b[39;00m block:\n\u001b[0;32m--> 144\u001b[0m     sleep(nssound\u001b[38;5;241m.\u001b[39mduration())\n",
      "\u001b[0;31mKeyboardInterrupt\u001b[0m: "
     ]
    }
   ],
   "source": [
    "import time\n",
    "from playsound import playsound\n",
    "\n",
    "bpm = 120\n",
    "delay=60/bpm\n",
    "\n",
    "while True:\n",
    "    playsound('app/static/audio/heart/normal_heart/A/1.wav')\n",
    "    playsound('app/static/audio/heart/normal_heart/A/2.wav')\n",
    "\n",
    "    playsound('app/static/audio/heart/normal_heart/A/3/090.wav')\n",
    "    playsound('app/static/audio/heart/normal_heart/A/3/100.wav')\n",
    "    playsound('app/static/audio/heart/normal_heart/A/3/110.wav')\n",
    "    playsound('app/static/audio/heart/normal_heart/A/3/120.wav')\n",
    "    playsound('app/static/audio/heart/normal_heart/A/3/130.wav')\n",
    "    playsound('app/static/audio/heart/normal_heart/A/3/140.wav')\n",
    "    playsound('app/static/audio/heart/normal_heart/A/3/150.wav')\n",
    "    playsound('app/static/audio/heart/normal_heart/A/3/160.wav')\n",
    "    playsound('app/static/audio/heart/normal_heart/A/3/170.wav')\n",
    "    playsound('app/static/audio/heart/normal_heart/A/3/180.wav')\n",
    "    playsound('app/static/audio/heart/normal_heart/A/3/190.wav')\n",
    "    playsound('app/static/audio/heart/normal_heart/A/3/201.wav')\n",
    "\n",
    "    playsound('app/static/audio/heart/normal_heart/A/4.wav')\n",
    "\n",
    "    playsound('app/static/audio/heart/normal_heart/A/5/090.wav')\n",
    "    playsound('app/static/audio/heart/normal_heart/A/5/100.wav')\n",
    "    playsound('app/static/audio/heart/normal_heart/A/5/110.wav')\n",
    "    playsound('app/static/audio/heart/normal_heart/A/5/120.wav')\n",
    "    playsound('app/static/audio/heart/normal_heart/A/5/130.wav')\n",
    "    playsound('app/static/audio/heart/normal_heart/A/5/140.wav')\n",
    "    playsound('app/static/audio/heart/normal_heart/A/5/150.wav')\n",
    "    playsound('app/static/audio/heart/normal_heart/A/5/160.wav')\n",
    "    playsound('app/static/audio/heart/normal_heart/A/5/170.wav')\n",
    "    playsound('app/static/audio/heart/normal_heart/A/5/180.wav')\n",
    "    playsound('app/static/audio/heart/normal_heart/A/5/190.wav')\n",
    "    playsound('app/static/audio/heart/normal_heart/A/5/201.wav')\n",
    "\n",
    "    time.sleep(delay)"
   ]
  },
  {
   "cell_type": "code",
   "execution_count": 6,
   "metadata": {},
   "outputs": [
    {
     "ename": "ZeroDivisionError",
     "evalue": "float division by zero",
     "output_type": "error",
     "traceback": [
      "\u001b[0;31m---------------------------------------------------------------------------\u001b[0m",
      "\u001b[0;31mZeroDivisionError\u001b[0m                         Traceback (most recent call last)",
      "Cell \u001b[0;32mIn[6], line 62\u001b[0m\n\u001b[1;32m     30\u001b[0m audio_files \u001b[38;5;241m=\u001b[39m [\n\u001b[1;32m     31\u001b[0m     \u001b[38;5;124m'\u001b[39m\u001b[38;5;124mapp/static/audio/heart/normal_heart/A/1.wav\u001b[39m\u001b[38;5;124m'\u001b[39m,\n\u001b[1;32m     32\u001b[0m     \u001b[38;5;124m'\u001b[39m\u001b[38;5;124mapp/static/audio/heart/normal_heart/A/2.wav\u001b[39m\u001b[38;5;124m'\u001b[39m,\n\u001b[0;32m   (...)\u001b[0m\n\u001b[1;32m     57\u001b[0m     \u001b[38;5;124m'\u001b[39m\u001b[38;5;124mapp/static/audio/heart/normal_heart/A/5/201.wav\u001b[39m\u001b[38;5;124m'\u001b[39m,\n\u001b[1;32m     58\u001b[0m ]\n\u001b[1;32m     60\u001b[0m desired_play_duration \u001b[38;5;241m=\u001b[39m \u001b[38;5;241m60\u001b[39m  \u001b[38;5;66;03m# in seconds\u001b[39;00m\n\u001b[0;32m---> 62\u001b[0m \u001b[43mplay_multiple_audio_files_with_duration\u001b[49m\u001b[43m(\u001b[49m\u001b[43maudio_files\u001b[49m\u001b[43m,\u001b[49m\u001b[43m \u001b[49m\u001b[43mdesired_play_duration\u001b[49m\u001b[43m)\u001b[49m\n",
      "Cell \u001b[0;32mIn[6], line 19\u001b[0m, in \u001b[0;36mplay_multiple_audio_files_with_duration\u001b[0;34m(file_paths, desired_play_duration)\u001b[0m\n\u001b[1;32m     16\u001b[0m acceleration_factor \u001b[38;5;241m=\u001b[39m original_duration \u001b[38;5;241m/\u001b[39m desired_play_duration\n\u001b[1;32m     18\u001b[0m \u001b[38;5;66;03m# Accelerate the audio\u001b[39;00m\n\u001b[0;32m---> 19\u001b[0m accelerated_audio \u001b[38;5;241m=\u001b[39m \u001b[43maudio\u001b[49m\u001b[38;5;241;43m.\u001b[39;49m\u001b[43mspeedup\u001b[49m\u001b[43m(\u001b[49m\u001b[43mplayback_speed\u001b[49m\u001b[38;5;241;43m=\u001b[39;49m\u001b[43macceleration_factor\u001b[49m\u001b[43m)\u001b[49m\n\u001b[1;32m     21\u001b[0m \u001b[38;5;66;03m# Play the accelerated audio\u001b[39;00m\n\u001b[1;32m     22\u001b[0m play(accelerated_audio)\n",
      "File \u001b[0;32m/Library/Frameworks/Python.framework/Versions/3.11/lib/python3.11/site-packages/pydub/effects.py:91\u001b[0m, in \u001b[0;36mspeedup\u001b[0;34m(seg, playback_speed, chunk_size, crossfade)\u001b[0m\n\u001b[1;32m     89\u001b[0m out \u001b[38;5;241m=\u001b[39m chunks[\u001b[38;5;241m0\u001b[39m]\n\u001b[1;32m     90\u001b[0m \u001b[38;5;28;01mfor\u001b[39;00m chunk \u001b[38;5;129;01min\u001b[39;00m chunks[\u001b[38;5;241m1\u001b[39m:]:\n\u001b[0;32m---> 91\u001b[0m     out \u001b[38;5;241m=\u001b[39m \u001b[43mout\u001b[49m\u001b[38;5;241;43m.\u001b[39;49m\u001b[43mappend\u001b[49m\u001b[43m(\u001b[49m\u001b[43mchunk\u001b[49m\u001b[43m,\u001b[49m\u001b[43m \u001b[49m\u001b[43mcrossfade\u001b[49m\u001b[38;5;241;43m=\u001b[39;49m\u001b[43mcrossfade\u001b[49m\u001b[43m)\u001b[49m\n\u001b[1;32m     93\u001b[0m out \u001b[38;5;241m+\u001b[39m\u001b[38;5;241m=\u001b[39m last_chunk\n\u001b[1;32m     94\u001b[0m \u001b[38;5;28;01mreturn\u001b[39;00m out\n",
      "File \u001b[0;32m/Library/Frameworks/Python.framework/Versions/3.11/lib/python3.11/site-packages/pydub/audio_segment.py:1264\u001b[0m, in \u001b[0;36mAudioSegment.append\u001b[0;34m(self, seg, crossfade)\u001b[0m\n\u001b[1;32m   1259\u001b[0m \u001b[38;5;28;01melif\u001b[39;00m crossfade \u001b[38;5;241m>\u001b[39m \u001b[38;5;28mlen\u001b[39m(seg):\n\u001b[1;32m   1260\u001b[0m     \u001b[38;5;28;01mraise\u001b[39;00m \u001b[38;5;167;01mValueError\u001b[39;00m(\u001b[38;5;124m\"\u001b[39m\u001b[38;5;124mCrossfade is longer than the appended AudioSegment (\u001b[39m\u001b[38;5;132;01m{}\u001b[39;00m\u001b[38;5;124mms > \u001b[39m\u001b[38;5;132;01m{}\u001b[39;00m\u001b[38;5;124mms)\u001b[39m\u001b[38;5;124m\"\u001b[39m\u001b[38;5;241m.\u001b[39mformat(\n\u001b[1;32m   1261\u001b[0m         crossfade, \u001b[38;5;28mlen\u001b[39m(seg)\n\u001b[1;32m   1262\u001b[0m     ))\n\u001b[0;32m-> 1264\u001b[0m xf \u001b[38;5;241m=\u001b[39m \u001b[43mseg1\u001b[49m\u001b[43m[\u001b[49m\u001b[38;5;241;43m-\u001b[39;49m\u001b[43mcrossfade\u001b[49m\u001b[43m:\u001b[49m\u001b[43m]\u001b[49m\u001b[38;5;241;43m.\u001b[39;49m\u001b[43mfade\u001b[49m\u001b[43m(\u001b[49m\u001b[43mto_gain\u001b[49m\u001b[38;5;241;43m=\u001b[39;49m\u001b[38;5;241;43m-\u001b[39;49m\u001b[38;5;241;43m120\u001b[39;49m\u001b[43m,\u001b[49m\u001b[43m \u001b[49m\u001b[43mstart\u001b[49m\u001b[38;5;241;43m=\u001b[39;49m\u001b[38;5;241;43m0\u001b[39;49m\u001b[43m,\u001b[49m\u001b[43m \u001b[49m\u001b[43mend\u001b[49m\u001b[38;5;241;43m=\u001b[39;49m\u001b[38;5;28;43mfloat\u001b[39;49m\u001b[43m(\u001b[49m\u001b[38;5;124;43m'\u001b[39;49m\u001b[38;5;124;43minf\u001b[39;49m\u001b[38;5;124;43m'\u001b[39;49m\u001b[43m)\u001b[49m\u001b[43m)\u001b[49m\n\u001b[1;32m   1265\u001b[0m xf \u001b[38;5;241m*\u001b[39m\u001b[38;5;241m=\u001b[39m seg2[:crossfade]\u001b[38;5;241m.\u001b[39mfade(from_gain\u001b[38;5;241m=\u001b[39m\u001b[38;5;241m-\u001b[39m\u001b[38;5;241m120\u001b[39m, start\u001b[38;5;241m=\u001b[39m\u001b[38;5;241m0\u001b[39m, end\u001b[38;5;241m=\u001b[39m\u001b[38;5;28mfloat\u001b[39m(\u001b[38;5;124m'\u001b[39m\u001b[38;5;124minf\u001b[39m\u001b[38;5;124m'\u001b[39m))\n\u001b[1;32m   1267\u001b[0m output \u001b[38;5;241m=\u001b[39m TemporaryFile()\n",
      "File \u001b[0;32m/Library/Frameworks/Python.framework/Versions/3.11/lib/python3.11/site-packages/pydub/audio_segment.py:1357\u001b[0m, in \u001b[0;36mAudioSegment.fade\u001b[0;34m(self, to_gain, from_gain, start, end, duration)\u001b[0m\n\u001b[1;32m   1355\u001b[0m end_frame \u001b[38;5;241m=\u001b[39m \u001b[38;5;28mself\u001b[39m\u001b[38;5;241m.\u001b[39mframe_count(ms\u001b[38;5;241m=\u001b[39mend)\n\u001b[1;32m   1356\u001b[0m fade_frames \u001b[38;5;241m=\u001b[39m end_frame \u001b[38;5;241m-\u001b[39m start_frame\n\u001b[0;32m-> 1357\u001b[0m scale_step \u001b[38;5;241m=\u001b[39m \u001b[43mgain_delta\u001b[49m\u001b[43m \u001b[49m\u001b[38;5;241;43m/\u001b[39;49m\u001b[43m \u001b[49m\u001b[43mfade_frames\u001b[49m\n\u001b[1;32m   1359\u001b[0m \u001b[38;5;28;01mfor\u001b[39;00m i \u001b[38;5;129;01min\u001b[39;00m \u001b[38;5;28mrange\u001b[39m(\u001b[38;5;28mint\u001b[39m(fade_frames)):\n\u001b[1;32m   1360\u001b[0m     volume_change \u001b[38;5;241m=\u001b[39m from_power \u001b[38;5;241m+\u001b[39m (scale_step \u001b[38;5;241m*\u001b[39m i)\n",
      "\u001b[0;31mZeroDivisionError\u001b[0m: float division by zero"
     ]
    }
   ],
   "source": [
    "from pydub import AudioSegment\n",
    "from pydub.playback import play\n",
    "from playsound import playsound\n",
    "\n",
    "def play_multiple_audio_files_with_duration(file_paths, desired_play_duration):\n",
    "    total_duration = 0\n",
    "\n",
    "    for file_path in file_paths:\n",
    "        # Load the audio file\n",
    "        audio = AudioSegment.from_file(file_path)\n",
    "\n",
    "        # Calculate the original duration\n",
    "        original_duration = len(audio) / 1000  # Convert milliseconds to seconds\n",
    "\n",
    "        # Check if desired play duration is greater than original duration\n",
    "        if desired_play_duration >= original_duration:\n",
    "            print(f\"Skipping {file_path}: Desired duration is greater than original duration.\")\n",
    "            continue\n",
    "\n",
    "        # Calculate the acceleration factor to fit the desired play duration\n",
    "        acceleration_factor = original_duration / desired_play_duration\n",
    "\n",
    "        # Accelerate the audio\n",
    "        accelerated_audio = audio.speedup(playback_speed=acceleration_factor)\n",
    "\n",
    "        # Play the accelerated audio\n",
    "        play(accelerated_audio)\n",
    "\n",
    "        # Update the total duration\n",
    "        total_duration += original_duration\n",
    "\n",
    "    print(f\"Total duration played: {total_duration} seconds\")\n",
    "\n",
    "# Example usage:\n",
    "audio_files = [\n",
    "    'app/static/audio/heart/normal_heart/A/1.wav',\n",
    "    'app/static/audio/heart/normal_heart/A/2.wav',\n",
    "    'app/static/audio/heart/normal_heart/A/3/090.wav',\n",
    "    'app/static/audio/heart/normal_heart/A/3/100.wav',\n",
    "    'app/static/audio/heart/normal_heart/A/3/110.wav',\n",
    "    'app/static/audio/heart/normal_heart/A/3/120.wav',\n",
    "    'app/static/audio/heart/normal_heart/A/3/130.wav',\n",
    "    'app/static/audio/heart/normal_heart/A/3/140.wav',\n",
    "    'app/static/audio/heart/normal_heart/A/3/150.wav',\n",
    "    'app/static/audio/heart/normal_heart/A/3/160.wav',\n",
    "    'app/static/audio/heart/normal_heart/A/3/170.wav',\n",
    "    'app/static/audio/heart/normal_heart/A/3/180.wav',\n",
    "    'app/static/audio/heart/normal_heart/A/3/190.wav',\n",
    "    'app/static/audio/heart/normal_heart/A/3/201.wav',\n",
    "    'app/static/audio/heart/normal_heart/A/4.wav',\n",
    "    'app/static/audio/heart/normal_heart/A/5/090.wav',\n",
    "    'app/static/audio/heart/normal_heart/A/5/100.wav',\n",
    "    'app/static/audio/heart/normal_heart/A/5/110.wav',\n",
    "    'app/static/audio/heart/normal_heart/A/5/120.wav',\n",
    "    'app/static/audio/heart/normal_heart/A/5/130.wav',\n",
    "    'app/static/audio/heart/normal_heart/A/5/140.wav',\n",
    "    'app/static/audio/heart/normal_heart/A/5/150.wav',\n",
    "    'app/static/audio/heart/normal_heart/A/5/160.wav',\n",
    "    'app/static/audio/heart/normal_heart/A/5/170.wav',\n",
    "    'app/static/audio/heart/normal_heart/A/5/180.wav',\n",
    "    'app/static/audio/heart/normal_heart/A/5/190.wav',\n",
    "    'app/static/audio/heart/normal_heart/A/5/201.wav',\n",
    "]\n",
    "\n",
    "desired_play_duration = 60  # in seconds\n",
    "\n",
    "play_multiple_audio_files_with_duration(audio_files, desired_play_duration)\n"
   ]
  },
  {
   "cell_type": "code",
   "execution_count": 7,
   "metadata": {},
   "outputs": [],
   "source": [
    "import re\n",
    "import subprocess\n",
    "\n",
    "\n",
    "def get_speaker_output_volume():\n",
    "    \"\"\"\n",
    "    Get the current speaker output volume from 0 to 100.\n",
    "\n",
    "    Note that the speakers can have a non-zero volume but be muted, in which\n",
    "    case we return 0 for simplicity.\n",
    "\n",
    "    Note: Only runs on macOS.\n",
    "    \"\"\"\n",
    "    cmd = \"osascript -e 'get volume settings'\"\n",
    "    process = subprocess.run(cmd, stdout=subprocess.PIPE, shell=True)\n",
    "    output = process.stdout.strip().decode('ascii')\n",
    "\n",
    "    pattern = re.compile(r\"output volume:(\\d+), input volume:(\\d+), \"\n",
    "                         r\"alert volume:(\\d+), output muted:(true|false)\")\n",
    "    volume, _, _, muted = pattern.match(output).groups()\n",
    "\n",
    "    volume = int(volume)\n",
    "    muted = (muted == 'true')\n",
    "\n",
    "    return 0 if muted else volume"
   ]
  },
  {
   "cell_type": "code",
   "execution_count": 10,
   "metadata": {},
   "outputs": [],
   "source": [
    "vol = get_speaker_output_volume()"
   ]
  },
  {
   "cell_type": "code",
   "execution_count": 11,
   "metadata": {},
   "outputs": [
    {
     "name": "stdout",
     "output_type": "stream",
     "text": [
      "Volume: 46%\n"
     ]
    }
   ],
   "source": [
    "print(f'Volume: {vol}%')"
   ]
  },
  {
   "cell_type": "code",
   "execution_count": 20,
   "metadata": {},
   "outputs": [
    {
     "name": "stdout",
     "output_type": "stream",
     "text": [
      "List of folders:\n",
      "RLF\n",
      "LLB\n",
      "RUB\n",
      "LUF\n",
      "RMB\n",
      "RLB\n",
      "LLF\n",
      "LMB\n",
      "RUF\n",
      "LUB\n",
      "RMF\n"
     ]
    }
   ],
   "source": [
    "import os\n",
    "\n",
    "def list_folders(directory):\n",
    "    folders = [folder for folder in os.listdir(directory) if os.path.isdir(os.path.join(directory, folder))]\n",
    "    return folders\n",
    "\n",
    "# Example usage\n",
    "directory_path = 'app/static/audio/lungs/amphoric_respiration'\n",
    "folders = list_folders(directory_path)\n",
    "\n",
    "print(\"List of folders:\")\n",
    "for folder in folders:\n",
    "    print(folder)"
   ]
  },
  {
   "cell_type": "code",
   "execution_count": 21,
   "metadata": {},
   "outputs": [
    {
     "data": {
      "text/plain": [
       "['RLF', 'LLB', 'RUB', 'LUF', 'RMB', 'RLB', 'LLF', 'LMB', 'RUF', 'LUB', 'RMF']"
      ]
     },
     "execution_count": 21,
     "metadata": {},
     "output_type": "execute_result"
    }
   ],
   "source": [
    "folders"
   ]
  },
  {
   "cell_type": "code",
   "execution_count": 22,
   "metadata": {},
   "outputs": [
    {
     "name": "stdout",
     "output_type": "stream",
     "text": [
      "('LLB'),('LLF'),('LMB'),('LUB'),('LUF'),('RLB'),('RLF'),('RMB'),('RMF'),('RUB'),('RUF'),"
     ]
    }
   ],
   "source": [
    "for fol in sorted(folders):\n",
    "    print(\"('{}')\".format(fol), end=\",\")"
   ]
  },
  {
   "cell_type": "code",
   "execution_count": null,
   "metadata": {},
   "outputs": [],
   "source": []
  },
  {
   "cell_type": "code",
   "execution_count": null,
   "metadata": {},
   "outputs": [],
   "source": []
  }
 ],
 "metadata": {
  "kernelspec": {
   "display_name": "virtualenv",
   "language": "python",
   "name": "python3"
  },
  "language_info": {
   "codemirror_mode": {
    "name": "ipython",
    "version": 3
   },
   "file_extension": ".py",
   "mimetype": "text/x-python",
   "name": "python",
   "nbconvert_exporter": "python",
   "pygments_lexer": "ipython3",
   "version": "3.11.1"
  }
 },
 "nbformat": 4,
 "nbformat_minor": 2
}
