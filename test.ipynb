{
 "cells": [
  {
   "cell_type": "code",
   "execution_count": 1,
   "metadata": {},
   "outputs": [],
   "source": [
    "old = [\n",
    "    \"normal_bowel\", \"hyperactive\", \"hypoactive\", \"borborygmus\", \"captement\", \"peritoneal_friction_rub\", \"normal_bowel_sound_with_bruits\",\n",
    "    \"irritable_bowel_syndrome\", \"diarrhea\", \"bruits_due_to_renal_arteries_stenosis\", \"constipation\", \"ulcerative_colitis\", \"crohns_disease\", \"paralytic_ileus\"\n",
    "]"
   ]
  },
  {
   "cell_type": "code",
   "execution_count": 3,
   "metadata": {},
   "outputs": [
    {
     "name": "stdout",
     "output_type": "stream",
     "text": [
      "\"normal_bowel_sound_LUQ\",\"normal_bowel_sound_LLQ\",\"normal_bowel_sound_RUQ\",\"normal_bowel_sound_RLQ\"\n",
      "\"hyperactive_sound_LUQ\",\"hyperactive_sound_LLQ\",\"hyperactive_sound_RUQ\",\"hyperactive_sound_RLQ\"\n",
      "\"hypoactive_sound_LUQ\",\"hypoactive_sound_LLQ\",\"hypoactive_sound_RUQ\",\"hypoactive_sound_RLQ\"\n",
      "\"borborygmus_sound_LUQ\",\"borborygmus_sound_LLQ\",\"borborygmus_sound_RUQ\",\"borborygmus_sound_RLQ\"\n",
      "\"captement_sound_LUQ\",\"captement_sound_LLQ\",\"captement_sound_RUQ\",\"captement_sound_RLQ\"\n",
      "\"peritoneal_friction_rub_sound_LUQ\",\"peritoneal_friction_rub_sound_LLQ\",\"peritoneal_friction_rub_sound_RUQ\",\"peritoneal_friction_rub_sound_RLQ\"\n",
      "\"normal_bowel_sound_with_bruits_sound_LUQ\",\"normal_bowel_sound_with_bruits_sound_LLQ\",\"normal_bowel_sound_with_bruits_sound_RUQ\",\"normal_bowel_sound_with_bruits_sound_RLQ\"\n",
      "\"irritable_bowel_syndrome_sound_LUQ\",\"irritable_bowel_syndrome_sound_LLQ\",\"irritable_bowel_syndrome_sound_RUQ\",\"irritable_bowel_syndrome_sound_RLQ\"\n",
      "\"diarrhea_sound_LUQ\",\"diarrhea_sound_LLQ\",\"diarrhea_sound_RUQ\",\"diarrhea_sound_RLQ\"\n",
      "\"bruits_due_to_renal_arteries_stenosis_sound_LUQ\",\"bruits_due_to_renal_arteries_stenosis_sound_LLQ\",\"bruits_due_to_renal_arteries_stenosis_sound_RUQ\",\"bruits_due_to_renal_arteries_stenosis_sound_RLQ\"\n",
      "\"constipation_sound_LUQ\",\"constipation_sound_LLQ\",\"constipation_sound_RUQ\",\"constipation_sound_RLQ\"\n",
      "\"ulcerative_colitis_sound_LUQ\",\"ulcerative_colitis_sound_LLQ\",\"ulcerative_colitis_sound_RUQ\",\"ulcerative_colitis_sound_RLQ\"\n",
      "\"crohns_disease_sound_LUQ\",\"crohns_disease_sound_LLQ\",\"crohns_disease_sound_RUQ\",\"crohns_disease_sound_RLQ\"\n",
      "\"paralytic_ileus_sound_LUQ\",\"paralytic_ileus_sound_LLQ\",\"paralytic_ileus_sound_RUQ\",\"paralytic_ileus_sound_RLQ\"\n"
     ]
    }
   ],
   "source": [
    "for x in old:\n",
    "    print(\"\\\"{}\\\",\\\"{}\\\",\\\"{}\\\",\\\"{}\\\"\".format(\n",
    "        x + \"_sound_LUQ\",\n",
    "        x + \"_sound_LLQ\",\n",
    "        x + \"_sound_RUQ\",\n",
    "        x + \"_sound_RLQ\"\n",
    "    ))"
   ]
  },
  {
   "cell_type": "code",
   "execution_count": null,
   "metadata": {},
   "outputs": [],
   "source": []
  }
 ],
 "metadata": {
  "kernelspec": {
   "display_name": "Python 3",
   "language": "python",
   "name": "python3"
  },
  "language_info": {
   "codemirror_mode": {
    "name": "ipython",
    "version": 3
   },
   "file_extension": ".py",
   "mimetype": "text/x-python",
   "name": "python",
   "nbconvert_exporter": "python",
   "pygments_lexer": "ipython3",
   "version": "3.11.1"
  }
 },
 "nbformat": 4,
 "nbformat_minor": 2
}
