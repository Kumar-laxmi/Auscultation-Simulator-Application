{
 "cells": [
  {
   "cell_type": "code",
   "execution_count": 1,
   "metadata": {},
   "outputs": [],
   "source": [
    "from bs4 import BeautifulSoup\n",
    "\n",
    "# Read the HTML file\n",
    "with open('app/templates/elements/RightVerticalNavBar/Bowel/bowel_volume_control.html', 'r') as file:\n",
    "    html_content = file.read()"
   ]
  },
  {
   "cell_type": "code",
   "execution_count": 2,
   "metadata": {},
   "outputs": [],
   "source": [
    "soup = BeautifulSoup(html_content, 'html.parser')"
   ]
  },
  {
   "cell_type": "code",
   "execution_count": 3,
   "metadata": {},
   "outputs": [],
   "source": [
    "button_tags = soup.find_all('button')"
   ]
  },
  {
   "cell_type": "code",
   "execution_count": 4,
   "metadata": {},
   "outputs": [],
   "source": [
    "button_names = [button.get('name', '') for button in button_tags]"
   ]
  },
  {
   "cell_type": "code",
   "execution_count": 5,
   "metadata": {},
   "outputs": [
    {
     "name": "stdout",
     "output_type": "stream",
     "text": [
      "\"normal_bowel_sound_LUQ\",\"normal_bowel_sound_LLQ\",\"normal_bowel_sound_RUQ\",\"normal_bowel_sound_RLQ\",\n",
      "\n",
      "\"hyperactive_sound_LUQ\",\"hyperactive_sound_LLQ\",\"hyperactive_sound_RUQ\",\"hyperactive_sound_RLQ\",\n",
      "\n",
      "\"hypoactive_sound_LUQ\",\"hypoactive_sound_LLQ\",\"hypoactive_sound_RUQ\",\"hypoactive_sound_RLQ\",\n",
      "\n",
      "\"borborygmus_sound_LUQ\",\"borborygmus_sound_LLQ\",\"borborygmus_sound_RUQ\",\"borborygmus_sound_RLQ\",\n",
      "\n",
      "\"captement_sound_LUQ\",\"captement_sound_LLQ\",\"captement_sound_RUQ\",\"captement_sound_RLQ\",\n",
      "\n",
      "\"peritoneal_friction_rub_sound_LUQ\",\"peritoneal_friction_rub_sound_LLQ\",\"peritoneal_friction_rub_sound_RUQ\",\"peritoneal_friction_rub_sound_RLQ\",\n",
      "\n",
      "\"normal_bowel_sound_with_bruits_sound_LUQ\",\"normal_bowel_sound_with_bruits_sound_LLQ\",\"normal_bowel_sound_with_bruits_sound_RUQ\",\"normal_bowel_sound_with_bruits_sound_RLQ\",\n",
      "\n",
      "\"irritable_bowel_syndrome_sound_LUQ\",\"irritable_bowel_syndrome_sound_LLQ\",\"irritable_bowel_syndrome_sound_RUQ\",\"irritable_bowel_syndrome_sound_RLQ\",\n",
      "\n",
      "\"diarrhea_sound_LUQ\",\"diarrhea_sound_LLQ\",\"diarrhea_sound_RUQ\",\"diarrhea_sound_RLQ\",\n",
      "\n",
      "\"bruits_due_to_renal_arteries_stenosis_sound_LUQ\",\"bruits_due_to_renal_arteries_stenosis_sound_LLQ\",\"bruits_due_to_renal_arteries_stenosis_sound_RUQ\",\"bruits_due_to_renal_arteries_stenosis_sound_RLQ\",\n",
      "\n",
      "\"constipation_sound_LUQ\",\"constipation_sound_LLQ\",\"constipation_sound_RUQ\",\"constipation_sound_RLQ\",\n",
      "\n",
      "\"ulcerative_colitis_sound_LUQ\",\"ulcerative_colitis_sound_LLQ\",\"ulcerative_colitis_sound_RUQ\",\"ulcerative_colitis_sound_RLQ\",\n",
      "\n",
      "\"crohns_disease_sound_LUQ\",\"crohns_disease_sound_LLQ\",\"crohns_disease_sound_RUQ\",\"crohns_disease_sound_RLQ\",\n",
      "\n",
      "\"paralytic_ileus_sound_LUQ\",\"paralytic_ileus_sound_LLQ\",\"paralytic_ileus_sound_RUQ\",\"paralytic_ileus_sound_RLQ\",\n",
      "\n"
     ]
    }
   ],
   "source": [
    "count = 0\n",
    "for x in button_names:\n",
    "    print(\"\\\"{}\\\"\".format(x),end=\",\")\n",
    "    count += 1\n",
    "    if count % 4 == 0:\n",
    "        print(\"\\n\")"
   ]
  },
  {
   "cell_type": "code",
   "execution_count": null,
   "metadata": {},
   "outputs": [],
   "source": [
    "normal_bowel_sound_with_bruits_buttons,constipation_buttons\n",
    "bruits_due_to_renal_arteries_stenosis_buttons,paralytic_ileus_buttons\n",
    "captement_buttons,hyperactive_buttons\n",
    "normal_bowel_buttons,diarrhea_buttons\n",
    "hypoactive_buttons,crohns_disease_buttons\n",
    "irritable_bowel_syndrome_buttons,borborygmus_buttons\n",
    "ulcerative_colitis_buttons,peritoneal_friction_rub_buttons"
   ]
  }
 ],
 "metadata": {
  "kernelspec": {
   "display_name": "Python 3",
   "language": "python",
   "name": "python3"
  },
  "language_info": {
   "codemirror_mode": {
    "name": "ipython",
    "version": 3
   },
   "file_extension": ".py",
   "mimetype": "text/x-python",
   "name": "python",
   "nbconvert_exporter": "python",
   "pygments_lexer": "ipython3",
   "version": "3.11.1"
  }
 },
 "nbformat": 4,
 "nbformat_minor": 2
}
