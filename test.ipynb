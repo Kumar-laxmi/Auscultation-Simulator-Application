{
 "cells": [
  {
   "cell_type": "code",
   "execution_count": 3,
   "metadata": {},
   "outputs": [
    {
     "ename": "KeyboardInterrupt",
     "evalue": "",
     "output_type": "error",
     "traceback": [
      "\u001b[0;31m---------------------------------------------------------------------------\u001b[0m",
      "\u001b[0;31mKeyboardInterrupt\u001b[0m                         Traceback (most recent call last)",
      "Cell \u001b[0;32mIn[3], line 9\u001b[0m\n\u001b[1;32m      7\u001b[0m \u001b[38;5;28;01mwhile\u001b[39;00m \u001b[38;5;28;01mTrue\u001b[39;00m:\n\u001b[1;32m      8\u001b[0m     playsound(\u001b[38;5;124m'\u001b[39m\u001b[38;5;124mapp/audio/heart/normal_heart/A/4.wav\u001b[39m\u001b[38;5;124m'\u001b[39m)\n\u001b[0;32m----> 9\u001b[0m     \u001b[43mtime\u001b[49m\u001b[38;5;241;43m.\u001b[39;49m\u001b[43msleep\u001b[49m\u001b[43m(\u001b[49m\u001b[43mdelay\u001b[49m\u001b[43m)\u001b[49m\n",
      "\u001b[0;31mKeyboardInterrupt\u001b[0m: "
     ]
    }
   ],
   "source": [
    "import time\n",
    "from playsound import playsound\n",
    "\n",
    "bpm = 60\n",
    "delay=60/bpm\n",
    "\n",
    "while True:\n",
    "    playsound('app/audio/heart/normal_heart/A/4.wav')\n",
    "    time.sleep(delay)"
   ]
  },
  {
   "cell_type": "code",
   "execution_count": 7,
   "metadata": {},
   "outputs": [],
   "source": [
    "import re\n",
    "import subprocess\n",
    "\n",
    "\n",
    "def get_speaker_output_volume():\n",
    "    \"\"\"\n",
    "    Get the current speaker output volume from 0 to 100.\n",
    "\n",
    "    Note that the speakers can have a non-zero volume but be muted, in which\n",
    "    case we return 0 for simplicity.\n",
    "\n",
    "    Note: Only runs on macOS.\n",
    "    \"\"\"\n",
    "    cmd = \"osascript -e 'get volume settings'\"\n",
    "    process = subprocess.run(cmd, stdout=subprocess.PIPE, shell=True)\n",
    "    output = process.stdout.strip().decode('ascii')\n",
    "\n",
    "    pattern = re.compile(r\"output volume:(\\d+), input volume:(\\d+), \"\n",
    "                         r\"alert volume:(\\d+), output muted:(true|false)\")\n",
    "    volume, _, _, muted = pattern.match(output).groups()\n",
    "\n",
    "    volume = int(volume)\n",
    "    muted = (muted == 'true')\n",
    "\n",
    "    return 0 if muted else volume"
   ]
  },
  {
   "cell_type": "code",
   "execution_count": 10,
   "metadata": {},
   "outputs": [],
   "source": [
    "vol = get_speaker_output_volume()"
   ]
  },
  {
   "cell_type": "code",
   "execution_count": 11,
   "metadata": {},
   "outputs": [
    {
     "name": "stdout",
     "output_type": "stream",
     "text": [
      "Volume: 46%\n"
     ]
    }
   ],
   "source": [
    "print(f'Volume: {vol}%')"
   ]
  },
  {
   "cell_type": "code",
   "execution_count": null,
   "metadata": {},
   "outputs": [],
   "source": []
  }
 ],
 "metadata": {
  "kernelspec": {
   "display_name": "virtualenv",
   "language": "python",
   "name": "python3"
  },
  "language_info": {
   "codemirror_mode": {
    "name": "ipython",
    "version": 3
   },
   "file_extension": ".py",
   "mimetype": "text/x-python",
   "name": "python",
   "nbconvert_exporter": "python",
   "pygments_lexer": "ipython3",
   "version": "3.11.1"
  }
 },
 "nbformat": 4,
 "nbformat_minor": 2
}
