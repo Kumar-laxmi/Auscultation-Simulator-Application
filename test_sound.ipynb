{
 "cells": [
  {
   "cell_type": "code",
   "execution_count": 3,
   "metadata": {},
   "outputs": [
    {
     "ename": "AttributeError",
     "evalue": "'numpy.ndarray' object has no attribute 'append'",
     "output_type": "error",
     "traceback": [
      "\u001b[0;31m---------------------------------------------------------------------------\u001b[0m",
      "\u001b[0;31mAttributeError\u001b[0m                            Traceback (most recent call last)",
      "Cell \u001b[0;32mIn[3], line 36\u001b[0m\n\u001b[1;32m     33\u001b[0m heartbeat_file \u001b[38;5;241m=\u001b[39m \u001b[38;5;124m\"\u001b[39m\u001b[38;5;124mapp/static/audio/heart/acute_myocardial_infarction/A/combined_audio.wav\u001b[39m\u001b[38;5;124m\"\u001b[39m\n\u001b[1;32m     34\u001b[0m heart_rate \u001b[38;5;241m=\u001b[39m \u001b[38;5;241m60\u001b[39m  \u001b[38;5;66;03m# Replace with your desired heart rate\u001b[39;00m\n\u001b[0;32m---> 36\u001b[0m \u001b[43mplay_heartbeat_continuous\u001b[49m\u001b[43m(\u001b[49m\u001b[43mheartbeat_file\u001b[49m\u001b[43m,\u001b[49m\u001b[43m \u001b[49m\u001b[43mheart_rate\u001b[49m\u001b[43m)\u001b[49m\n",
      "Cell \u001b[0;32mIn[3], line 22\u001b[0m, in \u001b[0;36mplay_heartbeat_continuous\u001b[0;34m(heartbeat_file, heart_rate)\u001b[0m\n\u001b[1;32m     19\u001b[0m \u001b[38;5;28;01mwhile\u001b[39;00m \u001b[38;5;28;01mTrue\u001b[39;00m:\n\u001b[1;32m     20\u001b[0m     \u001b[38;5;28;01mtry\u001b[39;00m:\n\u001b[1;32m     21\u001b[0m         \u001b[38;5;66;03m# Adjust the speed dynamically\u001b[39;00m\n\u001b[0;32m---> 22\u001b[0m         adjusted_samples \u001b[38;5;241m=\u001b[39m \u001b[43mpydub\u001b[49m\u001b[38;5;241;43m.\u001b[39;49m\u001b[43meffects\u001b[49m\u001b[38;5;241;43m.\u001b[39;49m\u001b[43mspeedup\u001b[49m\u001b[43m(\u001b[49m\u001b[43mdata\u001b[49m\u001b[43m,\u001b[49m\u001b[43m \u001b[49m\u001b[43mspeed_factor\u001b[49m\u001b[43m)\u001b[49m\n\u001b[1;32m     23\u001b[0m     \u001b[38;5;28;01mexcept\u001b[39;00m \u001b[38;5;167;01mZeroDivisionError\u001b[39;00m:\n\u001b[1;32m     24\u001b[0m         \u001b[38;5;66;03m# Use the original heartbeat if division by zero occurs\u001b[39;00m\n\u001b[1;32m     25\u001b[0m         \u001b[38;5;28;01mpass\u001b[39;00m\n",
      "File \u001b[0;32m/Library/Frameworks/Python.framework/Versions/3.11/lib/python3.11/site-packages/pydub/effects.py:91\u001b[0m, in \u001b[0;36mspeedup\u001b[0;34m(seg, playback_speed, chunk_size, crossfade)\u001b[0m\n\u001b[1;32m     89\u001b[0m out \u001b[38;5;241m=\u001b[39m chunks[\u001b[38;5;241m0\u001b[39m]\n\u001b[1;32m     90\u001b[0m \u001b[38;5;28;01mfor\u001b[39;00m chunk \u001b[38;5;129;01min\u001b[39;00m chunks[\u001b[38;5;241m1\u001b[39m:]:\n\u001b[0;32m---> 91\u001b[0m     out \u001b[38;5;241m=\u001b[39m \u001b[43mout\u001b[49m\u001b[38;5;241;43m.\u001b[39;49m\u001b[43mappend\u001b[49m(chunk, crossfade\u001b[38;5;241m=\u001b[39mcrossfade)\n\u001b[1;32m     93\u001b[0m out \u001b[38;5;241m+\u001b[39m\u001b[38;5;241m=\u001b[39m last_chunk\n\u001b[1;32m     94\u001b[0m \u001b[38;5;28;01mreturn\u001b[39;00m out\n",
      "\u001b[0;31mAttributeError\u001b[0m: 'numpy.ndarray' object has no attribute 'append'"
     ]
    }
   ],
   "source": [
    "from pydub.playback import play\n",
    "import soundfile as sf\n",
    "import soundcard as sc\n",
    "import pydub\n",
    "import time\n",
    "\n",
    "def play_heartbeat_continuous(heartbeat_file, heart_rate):\n",
    "    data, fs = sf.read(heartbeat_file)\n",
    "\n",
    "    # Avoid division by zero by setting a minimum heart rate\n",
    "    min_heart_rate = 47\n",
    "    heart_rate = max(heart_rate, min_heart_rate)\n",
    "\n",
    "    speed_factor = heart_rate / 60.0\n",
    "\n",
    "    speaker = sc.all_speakers()[0]\n",
    "\n",
    "    try:\n",
    "        while True:\n",
    "            try:\n",
    "                # Adjust the speed dynamically\n",
    "                adjusted_samples = pydub.effects.speedup(data, speed_factor)\n",
    "            except ZeroDivisionError:\n",
    "                # Use the original heartbeat if division by zero occurs\n",
    "                pass\n",
    "                \n",
    "            speaker.play(adjusted_samples, fs)\n",
    "\n",
    "    except KeyboardInterrupt:\n",
    "        print(\"\\nPlayback stopped by user.\")\n",
    "\n",
    "if __name__ == \"__main__\":\n",
    "    heartbeat_file = \"app/static/audio/heart/acute_myocardial_infarction/A/combined_audio.wav\"\n",
    "    heart_rate = 60  # Replace with your desired heart rate\n",
    "\n",
    "    play_heartbeat_continuous(heartbeat_file, heart_rate)"
   ]
  },
  {
   "cell_type": "code",
   "execution_count": null,
   "metadata": {},
   "outputs": [],
   "source": []
  }
 ],
 "metadata": {
  "kernelspec": {
   "display_name": "virtualenv",
   "language": "python",
   "name": "python3"
  },
  "language_info": {
   "codemirror_mode": {
    "name": "ipython",
    "version": 3
   },
   "file_extension": ".py",
   "mimetype": "text/x-python",
   "name": "python",
   "nbconvert_exporter": "python",
   "pygments_lexer": "ipython3",
   "version": "3.11.1"
  }
 },
 "nbformat": 4,
 "nbformat_minor": 2
}
