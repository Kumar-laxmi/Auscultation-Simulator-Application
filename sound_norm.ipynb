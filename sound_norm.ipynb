{
 "cells": [
  {
   "cell_type": "code",
   "execution_count": 1,
   "metadata": {},
   "outputs": [],
   "source": [
    "from pydub import AudioSegment\n",
    "import os\n",
    "\n",
    "def combine_audio_files_blank(input_folder, output_path):\n",
    "    # Ensure the output path has the desired extension (e.g., \".wav\")\n",
    "    output_path = os.path.splitext(output_path)[0] + \".wav\"\n",
    "\n",
    "    # List to store AudioSegment objects\n",
    "    audio_segments = []\n",
    "\n",
    "    # Loop through each file in the input folder\n",
    "    for filename in os.listdir(input_folder):\n",
    "        if filename.endswith(\".wav\"):  # Assuming your files are in WAV format, adjust as needed\n",
    "            file_path = os.path.join(input_folder, filename)\n",
    "            audio_segments.append(AudioSegment.from_file(file_path))\n",
    "\n",
    "    # Combine audio segments\n",
    "    combined_audio = sum(audio_segments)\n",
    "\n",
    "    # Export the combined audio to the specified output path\n",
    "    combined_audio.export(output_path, format=\"wav\")\n",
    "\n",
    "def speed_up_audio(input_path, output_path, speed_factor):\n",
    "    # Load the audio file\n",
    "    audio = AudioSegment.from_file(input_path)\n",
    "    \n",
    "    # Speed up the audio\n",
    "    sped_up_audio = audio.speedup(playback_speed=speed_factor)\n",
    "    \n",
    "    # Export the sped-up audio to a new file\n",
    "    sped_up_audio.export(output_path, format=\"wav\")\n",
    "\n",
    "def combine_audio_files_heart(file_paths, output_path):\n",
    "    # List to store AudioSegment objects\n",
    "    audio_segments = []\n",
    "\n",
    "    # Load each audio file into an AudioSegment\n",
    "    for file_path in file_paths:\n",
    "        audio_segments.append(AudioSegment.from_file(file_path))\n",
    "\n",
    "    # Combine audio segments\n",
    "    combined_audio = sum(audio_segments)\n",
    "\n",
    "    # Export the combined audio to the specified output path\n",
    "    combined_audio.export(output_path, format=\"wav\")"
   ]
  },
  {
   "cell_type": "code",
   "execution_count": 2,
   "metadata": {},
   "outputs": [
    {
     "ename": "ZeroDivisionError",
     "evalue": "float division by zero",
     "output_type": "error",
     "traceback": [
      "\u001b[0;31m---------------------------------------------------------------------------\u001b[0m",
      "\u001b[0;31mZeroDivisionError\u001b[0m                         Traceback (most recent call last)",
      "Cell \u001b[0;32mIn[2], line 5\u001b[0m\n\u001b[1;32m      2\u001b[0m combine_audio_files_blank(\u001b[38;5;124m\"\u001b[39m\u001b[38;5;124mapp/static/audio/heart/normal_heart/A/5\u001b[39m\u001b[38;5;124m\"\u001b[39m, \u001b[38;5;124m\"\u001b[39m\u001b[38;5;124mapp/static/audio/heart/normal_heart/A/5.wav\u001b[39m\u001b[38;5;124m\"\u001b[39m)\n\u001b[1;32m      4\u001b[0m speed_up_audio(\u001b[38;5;124m\"\u001b[39m\u001b[38;5;124mapp/static/audio/heart/normal_heart/A/3.wav\u001b[39m\u001b[38;5;124m\"\u001b[39m, \u001b[38;5;124m\"\u001b[39m\u001b[38;5;124mapp/static/audio/heart/normal_heart/A/3_comp.wav\u001b[39m\u001b[38;5;124m\"\u001b[39m, \u001b[38;5;241m0.93\u001b[39m)\n\u001b[0;32m----> 5\u001b[0m \u001b[43mspeed_up_audio\u001b[49m\u001b[43m(\u001b[49m\u001b[38;5;124;43m\"\u001b[39;49m\u001b[38;5;124;43mapp/static/audio/heart/normal_heart/A/5.wav\u001b[39;49m\u001b[38;5;124;43m\"\u001b[39;49m\u001b[43m,\u001b[49m\u001b[43m \u001b[49m\u001b[38;5;124;43m\"\u001b[39;49m\u001b[38;5;124;43mapp/static/audio/heart/normal_heart/A/5_comp.wav\u001b[39;49m\u001b[38;5;124;43m\"\u001b[39;49m\u001b[43m,\u001b[49m\u001b[43m \u001b[49m\u001b[38;5;241;43m0.07\u001b[39;49m\u001b[43m)\u001b[49m\n\u001b[1;32m      7\u001b[0m \u001b[38;5;66;03m# Example usage\u001b[39;00m\n\u001b[1;32m      8\u001b[0m input_files \u001b[38;5;241m=\u001b[39m [\n\u001b[1;32m      9\u001b[0m     \u001b[38;5;124m\"\u001b[39m\u001b[38;5;124mapp/static/audio/heart/normal_heart/A/1.wav\u001b[39m\u001b[38;5;124m\"\u001b[39m,\n\u001b[1;32m     10\u001b[0m     \u001b[38;5;124m\"\u001b[39m\u001b[38;5;124mapp/static/audio/heart/normal_heart/A/2.wav\u001b[39m\u001b[38;5;124m\"\u001b[39m,\n\u001b[0;32m   (...)\u001b[0m\n\u001b[1;32m     13\u001b[0m     \u001b[38;5;124m\"\u001b[39m\u001b[38;5;124mapp/static/audio/heart/normal_heart/A/5_comp.wav\u001b[39m\u001b[38;5;124m\"\u001b[39m\n\u001b[1;32m     14\u001b[0m ]\n",
      "Cell \u001b[0;32mIn[1], line 31\u001b[0m, in \u001b[0;36mspeed_up_audio\u001b[0;34m(input_path, output_path, speed_factor)\u001b[0m\n\u001b[1;32m     28\u001b[0m new_duration \u001b[38;5;241m=\u001b[39m audio\u001b[38;5;241m.\u001b[39mduration_seconds \u001b[38;5;241m*\u001b[39m (\u001b[38;5;241m1\u001b[39m \u001b[38;5;241m/\u001b[39m speed_factor)\n\u001b[1;32m     30\u001b[0m \u001b[38;5;66;03m# Speed up the audio\u001b[39;00m\n\u001b[0;32m---> 31\u001b[0m sped_up_audio \u001b[38;5;241m=\u001b[39m \u001b[43maudio\u001b[49m\u001b[38;5;241;43m.\u001b[39;49m\u001b[43mspeedup\u001b[49m\u001b[43m(\u001b[49m\u001b[43mplayback_speed\u001b[49m\u001b[38;5;241;43m=\u001b[39;49m\u001b[43mspeed_factor\u001b[49m\u001b[43m)\u001b[49m\n\u001b[1;32m     33\u001b[0m \u001b[38;5;66;03m# Export the sped-up audio to a new file\u001b[39;00m\n\u001b[1;32m     34\u001b[0m sped_up_audio\u001b[38;5;241m.\u001b[39mexport(output_path, \u001b[38;5;28mformat\u001b[39m\u001b[38;5;241m=\u001b[39m\u001b[38;5;124m\"\u001b[39m\u001b[38;5;124mwav\u001b[39m\u001b[38;5;124m\"\u001b[39m)\n",
      "File \u001b[0;32m/Library/Frameworks/Python.framework/Versions/3.11/lib/python3.11/site-packages/pydub/effects.py:91\u001b[0m, in \u001b[0;36mspeedup\u001b[0;34m(seg, playback_speed, chunk_size, crossfade)\u001b[0m\n\u001b[1;32m     89\u001b[0m out \u001b[38;5;241m=\u001b[39m chunks[\u001b[38;5;241m0\u001b[39m]\n\u001b[1;32m     90\u001b[0m \u001b[38;5;28;01mfor\u001b[39;00m chunk \u001b[38;5;129;01min\u001b[39;00m chunks[\u001b[38;5;241m1\u001b[39m:]:\n\u001b[0;32m---> 91\u001b[0m     out \u001b[38;5;241m=\u001b[39m \u001b[43mout\u001b[49m\u001b[38;5;241;43m.\u001b[39;49m\u001b[43mappend\u001b[49m\u001b[43m(\u001b[49m\u001b[43mchunk\u001b[49m\u001b[43m,\u001b[49m\u001b[43m \u001b[49m\u001b[43mcrossfade\u001b[49m\u001b[38;5;241;43m=\u001b[39;49m\u001b[43mcrossfade\u001b[49m\u001b[43m)\u001b[49m\n\u001b[1;32m     93\u001b[0m out \u001b[38;5;241m+\u001b[39m\u001b[38;5;241m=\u001b[39m last_chunk\n\u001b[1;32m     94\u001b[0m \u001b[38;5;28;01mreturn\u001b[39;00m out\n",
      "File \u001b[0;32m/Library/Frameworks/Python.framework/Versions/3.11/lib/python3.11/site-packages/pydub/audio_segment.py:1264\u001b[0m, in \u001b[0;36mAudioSegment.append\u001b[0;34m(self, seg, crossfade)\u001b[0m\n\u001b[1;32m   1259\u001b[0m \u001b[38;5;28;01melif\u001b[39;00m crossfade \u001b[38;5;241m>\u001b[39m \u001b[38;5;28mlen\u001b[39m(seg):\n\u001b[1;32m   1260\u001b[0m     \u001b[38;5;28;01mraise\u001b[39;00m \u001b[38;5;167;01mValueError\u001b[39;00m(\u001b[38;5;124m\"\u001b[39m\u001b[38;5;124mCrossfade is longer than the appended AudioSegment (\u001b[39m\u001b[38;5;132;01m{}\u001b[39;00m\u001b[38;5;124mms > \u001b[39m\u001b[38;5;132;01m{}\u001b[39;00m\u001b[38;5;124mms)\u001b[39m\u001b[38;5;124m\"\u001b[39m\u001b[38;5;241m.\u001b[39mformat(\n\u001b[1;32m   1261\u001b[0m         crossfade, \u001b[38;5;28mlen\u001b[39m(seg)\n\u001b[1;32m   1262\u001b[0m     ))\n\u001b[0;32m-> 1264\u001b[0m xf \u001b[38;5;241m=\u001b[39m \u001b[43mseg1\u001b[49m\u001b[43m[\u001b[49m\u001b[38;5;241;43m-\u001b[39;49m\u001b[43mcrossfade\u001b[49m\u001b[43m:\u001b[49m\u001b[43m]\u001b[49m\u001b[38;5;241;43m.\u001b[39;49m\u001b[43mfade\u001b[49m\u001b[43m(\u001b[49m\u001b[43mto_gain\u001b[49m\u001b[38;5;241;43m=\u001b[39;49m\u001b[38;5;241;43m-\u001b[39;49m\u001b[38;5;241;43m120\u001b[39;49m\u001b[43m,\u001b[49m\u001b[43m \u001b[49m\u001b[43mstart\u001b[49m\u001b[38;5;241;43m=\u001b[39;49m\u001b[38;5;241;43m0\u001b[39;49m\u001b[43m,\u001b[49m\u001b[43m \u001b[49m\u001b[43mend\u001b[49m\u001b[38;5;241;43m=\u001b[39;49m\u001b[38;5;28;43mfloat\u001b[39;49m\u001b[43m(\u001b[49m\u001b[38;5;124;43m'\u001b[39;49m\u001b[38;5;124;43minf\u001b[39;49m\u001b[38;5;124;43m'\u001b[39;49m\u001b[43m)\u001b[49m\u001b[43m)\u001b[49m\n\u001b[1;32m   1265\u001b[0m xf \u001b[38;5;241m*\u001b[39m\u001b[38;5;241m=\u001b[39m seg2[:crossfade]\u001b[38;5;241m.\u001b[39mfade(from_gain\u001b[38;5;241m=\u001b[39m\u001b[38;5;241m-\u001b[39m\u001b[38;5;241m120\u001b[39m, start\u001b[38;5;241m=\u001b[39m\u001b[38;5;241m0\u001b[39m, end\u001b[38;5;241m=\u001b[39m\u001b[38;5;28mfloat\u001b[39m(\u001b[38;5;124m'\u001b[39m\u001b[38;5;124minf\u001b[39m\u001b[38;5;124m'\u001b[39m))\n\u001b[1;32m   1267\u001b[0m output \u001b[38;5;241m=\u001b[39m TemporaryFile()\n",
      "File \u001b[0;32m/Library/Frameworks/Python.framework/Versions/3.11/lib/python3.11/site-packages/pydub/audio_segment.py:1357\u001b[0m, in \u001b[0;36mAudioSegment.fade\u001b[0;34m(self, to_gain, from_gain, start, end, duration)\u001b[0m\n\u001b[1;32m   1355\u001b[0m end_frame \u001b[38;5;241m=\u001b[39m \u001b[38;5;28mself\u001b[39m\u001b[38;5;241m.\u001b[39mframe_count(ms\u001b[38;5;241m=\u001b[39mend)\n\u001b[1;32m   1356\u001b[0m fade_frames \u001b[38;5;241m=\u001b[39m end_frame \u001b[38;5;241m-\u001b[39m start_frame\n\u001b[0;32m-> 1357\u001b[0m scale_step \u001b[38;5;241m=\u001b[39m \u001b[43mgain_delta\u001b[49m\u001b[43m \u001b[49m\u001b[38;5;241;43m/\u001b[39;49m\u001b[43m \u001b[49m\u001b[43mfade_frames\u001b[49m\n\u001b[1;32m   1359\u001b[0m \u001b[38;5;28;01mfor\u001b[39;00m i \u001b[38;5;129;01min\u001b[39;00m \u001b[38;5;28mrange\u001b[39m(\u001b[38;5;28mint\u001b[39m(fade_frames)):\n\u001b[1;32m   1360\u001b[0m     volume_change \u001b[38;5;241m=\u001b[39m from_power \u001b[38;5;241m+\u001b[39m (scale_step \u001b[38;5;241m*\u001b[39m i)\n",
      "\u001b[0;31mZeroDivisionError\u001b[0m: float division by zero"
     ]
    }
   ],
   "source": [
    "combine_audio_files_blank(\"app/static/audio/heart/normal_heart/A/3\", \"app/static/audio/heart/normal_heart/A/3.wav\")\n",
    "combine_audio_files_blank(\"app/static/audio/heart/normal_heart/A/5\", \"app/static/audio/heart/normal_heart/A/5.wav\")\n",
    "\n",
    "speed_up_audio(\"app/static/audio/heart/normal_heart/A/3.wav\", \"app/static/audio/heart/normal_heart/A/3_comp.wav\", 0.93)\n",
    "speed_up_audio(\"app/static/audio/heart/normal_heart/A/5.wav\", \"app/static/audio/heart/normal_heart/A/5_comp.wav\", 0.07)\n",
    "\n",
    "# Example usage\n",
    "input_files = [\n",
    "    \"app/static/audio/heart/normal_heart/A/1.wav\",\n",
    "    \"app/static/audio/heart/normal_heart/A/2.wav\",\n",
    "    \"app/static/audio/heart/normal_heart/A/3_comp.wav\",\n",
    "    \"app/static/audio/heart/normal_heart/A/4.wav\",\n",
    "    \"app/static/audio/heart/normal_heart/A/5_comp.wav\"\n",
    "]\n",
    "\n",
    "output_path = \"app/static/audio/heart/normal_heart/A/combined_audio.wav\"\n",
    "\n",
    "combine_audio_files_heart(input_files, output_path)"
   ]
  },
  {
   "cell_type": "code",
   "execution_count": 6,
   "metadata": {},
   "outputs": [
    {
     "ename": "ZeroDivisionError",
     "evalue": "float division by zero",
     "output_type": "error",
     "traceback": [
      "\u001b[0;31m---------------------------------------------------------------------------\u001b[0m",
      "\u001b[0;31mZeroDivisionError\u001b[0m                         Traceback (most recent call last)",
      "Cell \u001b[0;32mIn[6], line 5\u001b[0m\n\u001b[1;32m      2\u001b[0m combine_audio_files_blank(\u001b[38;5;124m\"\u001b[39m\u001b[38;5;124mapp/static/audio/heart/normal_heart/E/5\u001b[39m\u001b[38;5;124m\"\u001b[39m, \u001b[38;5;124m\"\u001b[39m\u001b[38;5;124mapp/static/audio/heart/normal_heart/E/5.wav\u001b[39m\u001b[38;5;124m\"\u001b[39m)\n\u001b[1;32m      4\u001b[0m speed_up_audio(\u001b[38;5;124m\"\u001b[39m\u001b[38;5;124mapp/static/audio/heart/normal_heart/E/3.wav\u001b[39m\u001b[38;5;124m\"\u001b[39m, \u001b[38;5;124m\"\u001b[39m\u001b[38;5;124mapp/static/audio/heart/normal_heart/E/3_comp.wav\u001b[39m\u001b[38;5;124m\"\u001b[39m, \u001b[38;5;241m0.93\u001b[39m)\n\u001b[0;32m----> 5\u001b[0m \u001b[43mspeed_up_audio\u001b[49m\u001b[43m(\u001b[49m\u001b[38;5;124;43m\"\u001b[39;49m\u001b[38;5;124;43mapp/static/audio/heart/normal_heart/E/5.wav\u001b[39;49m\u001b[38;5;124;43m\"\u001b[39;49m\u001b[43m,\u001b[49m\u001b[43m \u001b[49m\u001b[38;5;124;43m\"\u001b[39;49m\u001b[38;5;124;43mapp/static/audio/heart/normal_heart/E/5_comp.wav\u001b[39;49m\u001b[38;5;124;43m\"\u001b[39;49m\u001b[43m,\u001b[49m\u001b[43m \u001b[49m\u001b[38;5;241;43m0.1\u001b[39;49m\u001b[43m)\u001b[49m\n\u001b[1;32m      7\u001b[0m \u001b[38;5;66;03m# Example usage\u001b[39;00m\n\u001b[1;32m      8\u001b[0m input_files \u001b[38;5;241m=\u001b[39m [\n\u001b[1;32m      9\u001b[0m     \u001b[38;5;124m\"\u001b[39m\u001b[38;5;124mapp/static/audio/heart/normal_heart/E/1.wav\u001b[39m\u001b[38;5;124m\"\u001b[39m,\n\u001b[1;32m     10\u001b[0m     \u001b[38;5;124m\"\u001b[39m\u001b[38;5;124mapp/static/audio/heart/normal_heart/E/2.wav\u001b[39m\u001b[38;5;124m\"\u001b[39m,\n\u001b[0;32m   (...)\u001b[0m\n\u001b[1;32m     13\u001b[0m     \u001b[38;5;124m\"\u001b[39m\u001b[38;5;124mapp/static/audio/heart/normal_heart/E/5_comp.wav\u001b[39m\u001b[38;5;124m\"\u001b[39m\n\u001b[1;32m     14\u001b[0m ]\n",
      "Cell \u001b[0;32mIn[4], line 31\u001b[0m, in \u001b[0;36mspeed_up_audio\u001b[0;34m(input_path, output_path, speed_factor)\u001b[0m\n\u001b[1;32m     28\u001b[0m new_duration \u001b[38;5;241m=\u001b[39m \u001b[38;5;28mint\u001b[39m(audio\u001b[38;5;241m.\u001b[39mduration_seconds \u001b[38;5;241m*\u001b[39m (\u001b[38;5;241m1\u001b[39m \u001b[38;5;241m/\u001b[39m speed_factor))\n\u001b[1;32m     30\u001b[0m \u001b[38;5;66;03m# Speed up the audio\u001b[39;00m\n\u001b[0;32m---> 31\u001b[0m sped_up_audio \u001b[38;5;241m=\u001b[39m \u001b[43maudio\u001b[49m\u001b[38;5;241;43m.\u001b[39;49m\u001b[43mspeedup\u001b[49m\u001b[43m(\u001b[49m\u001b[43mplayback_speed\u001b[49m\u001b[38;5;241;43m=\u001b[39;49m\u001b[43mspeed_factor\u001b[49m\u001b[43m)\u001b[49m\n\u001b[1;32m     33\u001b[0m \u001b[38;5;66;03m# Export the sped-up audio to a new file\u001b[39;00m\n\u001b[1;32m     34\u001b[0m sped_up_audio\u001b[38;5;241m.\u001b[39mexport(output_path, \u001b[38;5;28mformat\u001b[39m\u001b[38;5;241m=\u001b[39m\u001b[38;5;124m\"\u001b[39m\u001b[38;5;124mwav\u001b[39m\u001b[38;5;124m\"\u001b[39m)\n",
      "File \u001b[0;32m/Library/Frameworks/Python.framework/Versions/3.11/lib/python3.11/site-packages/pydub/effects.py:91\u001b[0m, in \u001b[0;36mspeedup\u001b[0;34m(seg, playback_speed, chunk_size, crossfade)\u001b[0m\n\u001b[1;32m     89\u001b[0m out \u001b[38;5;241m=\u001b[39m chunks[\u001b[38;5;241m0\u001b[39m]\n\u001b[1;32m     90\u001b[0m \u001b[38;5;28;01mfor\u001b[39;00m chunk \u001b[38;5;129;01min\u001b[39;00m chunks[\u001b[38;5;241m1\u001b[39m:]:\n\u001b[0;32m---> 91\u001b[0m     out \u001b[38;5;241m=\u001b[39m \u001b[43mout\u001b[49m\u001b[38;5;241;43m.\u001b[39;49m\u001b[43mappend\u001b[49m\u001b[43m(\u001b[49m\u001b[43mchunk\u001b[49m\u001b[43m,\u001b[49m\u001b[43m \u001b[49m\u001b[43mcrossfade\u001b[49m\u001b[38;5;241;43m=\u001b[39;49m\u001b[43mcrossfade\u001b[49m\u001b[43m)\u001b[49m\n\u001b[1;32m     93\u001b[0m out \u001b[38;5;241m+\u001b[39m\u001b[38;5;241m=\u001b[39m last_chunk\n\u001b[1;32m     94\u001b[0m \u001b[38;5;28;01mreturn\u001b[39;00m out\n",
      "File \u001b[0;32m/Library/Frameworks/Python.framework/Versions/3.11/lib/python3.11/site-packages/pydub/audio_segment.py:1264\u001b[0m, in \u001b[0;36mAudioSegment.append\u001b[0;34m(self, seg, crossfade)\u001b[0m\n\u001b[1;32m   1259\u001b[0m \u001b[38;5;28;01melif\u001b[39;00m crossfade \u001b[38;5;241m>\u001b[39m \u001b[38;5;28mlen\u001b[39m(seg):\n\u001b[1;32m   1260\u001b[0m     \u001b[38;5;28;01mraise\u001b[39;00m \u001b[38;5;167;01mValueError\u001b[39;00m(\u001b[38;5;124m\"\u001b[39m\u001b[38;5;124mCrossfade is longer than the appended AudioSegment (\u001b[39m\u001b[38;5;132;01m{}\u001b[39;00m\u001b[38;5;124mms > \u001b[39m\u001b[38;5;132;01m{}\u001b[39;00m\u001b[38;5;124mms)\u001b[39m\u001b[38;5;124m\"\u001b[39m\u001b[38;5;241m.\u001b[39mformat(\n\u001b[1;32m   1261\u001b[0m         crossfade, \u001b[38;5;28mlen\u001b[39m(seg)\n\u001b[1;32m   1262\u001b[0m     ))\n\u001b[0;32m-> 1264\u001b[0m xf \u001b[38;5;241m=\u001b[39m \u001b[43mseg1\u001b[49m\u001b[43m[\u001b[49m\u001b[38;5;241;43m-\u001b[39;49m\u001b[43mcrossfade\u001b[49m\u001b[43m:\u001b[49m\u001b[43m]\u001b[49m\u001b[38;5;241;43m.\u001b[39;49m\u001b[43mfade\u001b[49m\u001b[43m(\u001b[49m\u001b[43mto_gain\u001b[49m\u001b[38;5;241;43m=\u001b[39;49m\u001b[38;5;241;43m-\u001b[39;49m\u001b[38;5;241;43m120\u001b[39;49m\u001b[43m,\u001b[49m\u001b[43m \u001b[49m\u001b[43mstart\u001b[49m\u001b[38;5;241;43m=\u001b[39;49m\u001b[38;5;241;43m0\u001b[39;49m\u001b[43m,\u001b[49m\u001b[43m \u001b[49m\u001b[43mend\u001b[49m\u001b[38;5;241;43m=\u001b[39;49m\u001b[38;5;28;43mfloat\u001b[39;49m\u001b[43m(\u001b[49m\u001b[38;5;124;43m'\u001b[39;49m\u001b[38;5;124;43minf\u001b[39;49m\u001b[38;5;124;43m'\u001b[39;49m\u001b[43m)\u001b[49m\u001b[43m)\u001b[49m\n\u001b[1;32m   1265\u001b[0m xf \u001b[38;5;241m*\u001b[39m\u001b[38;5;241m=\u001b[39m seg2[:crossfade]\u001b[38;5;241m.\u001b[39mfade(from_gain\u001b[38;5;241m=\u001b[39m\u001b[38;5;241m-\u001b[39m\u001b[38;5;241m120\u001b[39m, start\u001b[38;5;241m=\u001b[39m\u001b[38;5;241m0\u001b[39m, end\u001b[38;5;241m=\u001b[39m\u001b[38;5;28mfloat\u001b[39m(\u001b[38;5;124m'\u001b[39m\u001b[38;5;124minf\u001b[39m\u001b[38;5;124m'\u001b[39m))\n\u001b[1;32m   1267\u001b[0m output \u001b[38;5;241m=\u001b[39m TemporaryFile()\n",
      "File \u001b[0;32m/Library/Frameworks/Python.framework/Versions/3.11/lib/python3.11/site-packages/pydub/audio_segment.py:1357\u001b[0m, in \u001b[0;36mAudioSegment.fade\u001b[0;34m(self, to_gain, from_gain, start, end, duration)\u001b[0m\n\u001b[1;32m   1355\u001b[0m end_frame \u001b[38;5;241m=\u001b[39m \u001b[38;5;28mself\u001b[39m\u001b[38;5;241m.\u001b[39mframe_count(ms\u001b[38;5;241m=\u001b[39mend)\n\u001b[1;32m   1356\u001b[0m fade_frames \u001b[38;5;241m=\u001b[39m end_frame \u001b[38;5;241m-\u001b[39m start_frame\n\u001b[0;32m-> 1357\u001b[0m scale_step \u001b[38;5;241m=\u001b[39m \u001b[43mgain_delta\u001b[49m\u001b[43m \u001b[49m\u001b[38;5;241;43m/\u001b[39;49m\u001b[43m \u001b[49m\u001b[43mfade_frames\u001b[49m\n\u001b[1;32m   1359\u001b[0m \u001b[38;5;28;01mfor\u001b[39;00m i \u001b[38;5;129;01min\u001b[39;00m \u001b[38;5;28mrange\u001b[39m(\u001b[38;5;28mint\u001b[39m(fade_frames)):\n\u001b[1;32m   1360\u001b[0m     volume_change \u001b[38;5;241m=\u001b[39m from_power \u001b[38;5;241m+\u001b[39m (scale_step \u001b[38;5;241m*\u001b[39m i)\n",
      "\u001b[0;31mZeroDivisionError\u001b[0m: float division by zero"
     ]
    }
   ],
   "source": [
    "combine_audio_files_blank(\"app/static/audio/heart/normal_heart/E/3\", \"app/static/audio/heart/normal_heart/E/3.wav\")\n",
    "combine_audio_files_blank(\"app/static/audio/heart/normal_heart/E/5\", \"app/static/audio/heart/normal_heart/E/5.wav\")\n",
    "\n",
    "speed_up_audio(\"app/static/audio/heart/normal_heart/E/3.wav\", \"app/static/audio/heart/normal_heart/E/3_comp.wav\", 0.93)\n",
    "speed_up_audio(\"app/static/audio/heart/normal_heart/E/5.wav\", \"app/static/audio/heart/normal_heart/E/5_comp.wav\", 0.07)\n",
    "\n",
    "# Example usage\n",
    "input_files = [\n",
    "    \"app/static/audio/heart/normal_heart/E/1.wav\",\n",
    "    \"app/static/audio/heart/normal_heart/E/2.wav\",\n",
    "    \"app/static/audio/heart/normal_heart/E/3_comp.wav\",\n",
    "    \"app/static/audio/heart/normal_heart/E/4.wav\",\n",
    "    \"app/static/audio/heart/normal_heart/E/5_comp.wav\"\n",
    "]\n",
    "\n",
    "output_path = \"app/static/audio/heart/normal_heart/E/combined_audio.wav\"\n",
    "\n",
    "combine_audio_files_heart(input_files, output_path)"
   ]
  },
  {
   "cell_type": "code",
   "execution_count": 18,
   "metadata": {},
   "outputs": [],
   "source": [
    "combine_audio_files_blank(\"app/static/audio/heart/normal_heart/M/3\", \"app/static/audio/heart/normal_heart/M/3.wav\")\n",
    "combine_audio_files_blank(\"app/static/audio/heart/normal_heart/M/5\", \"app/static/audio/heart/normal_heart/M/5.wav\")\n",
    "\n",
    "speed_up_audio(\"app/static/audio/heart/normal_heart/M/3.wav\", \"app/static/audio/heart/normal_heart/M/3_comp.wav\", 0.93)\n",
    "speed_up_audio(\"app/static/audio/heart/normal_heart/M/5.wav\", \"app/static/audio/heart/normal_heart/M/5_comp.wav\", 0.07)\n",
    "\n",
    "# Example usage\n",
    "input_files = [\n",
    "    \"app/static/audio/heart/normal_heart/M/1.wav\",\n",
    "    \"app/static/audio/heart/normal_heart/M/2.wav\",\n",
    "    \"app/static/audio/heart/normal_heart/M/3_comp.wav\",\n",
    "    \"app/static/audio/heart/normal_heart/M/4.wav\",\n",
    "    \"app/static/audio/heart/normal_heart/M/5_comp.wav\"\n",
    "]\n",
    "\n",
    "output_path = \"app/static/audio/heart/normal_heart/M/combined_audio.wav\"\n",
    "\n",
    "combine_audio_files_heart(input_files, output_path)"
   ]
  },
  {
   "cell_type": "code",
   "execution_count": 19,
   "metadata": {},
   "outputs": [],
   "source": [
    "combine_audio_files_blank(\"app/static/audio/heart/normal_heart/P/3\", \"app/static/audio/heart/normal_heart/P/3.wav\")\n",
    "combine_audio_files_blank(\"app/static/audio/heart/normal_heart/P/5\", \"app/static/audio/heart/normal_heart/P/5.wav\")\n",
    "\n",
    "speed_up_audio(\"app/static/audio/heart/normal_heart/P/3.wav\", \"app/static/audio/heart/normal_heart/P/3_comp.wav\", 0.93)\n",
    "speed_up_audio(\"app/static/audio/heart/normal_heart/P/5.wav\", \"app/static/audio/heart/normal_heart/P/5_comp.wav\", 0.07)\n",
    "\n",
    "# Example usage\n",
    "input_files = [\n",
    "    \"app/static/audio/heart/normal_heart/P/1.wav\",\n",
    "    \"app/static/audio/heart/normal_heart/P/2.wav\",\n",
    "    \"app/static/audio/heart/normal_heart/P/3_comp.wav\",\n",
    "    \"app/static/audio/heart/normal_heart/P/4.wav\",\n",
    "    \"app/static/audio/heart/normal_heart/P/5_comp.wav\"\n",
    "]\n",
    "\n",
    "output_path = \"app/static/audio/heart/normal_heart/P/combined_audio.wav\"\n",
    "\n",
    "combine_audio_files_heart(input_files, output_path)"
   ]
  },
  {
   "cell_type": "code",
   "execution_count": 20,
   "metadata": {},
   "outputs": [],
   "source": [
    "combine_audio_files_blank(\"app/static/audio/heart/normal_heart/T/3\", \"app/static/audio/heart/normal_heart/T/3.wav\")\n",
    "combine_audio_files_blank(\"app/static/audio/heart/normal_heart/T/5\", \"app/static/audio/heart/normal_heart/T/5.wav\")\n",
    "\n",
    "speed_up_audio(\"app/static/audio/heart/normal_heart/T/3.wav\", \"app/static/audio/heart/normal_heart/T/3_comp.wav\", 0.93)\n",
    "speed_up_audio(\"app/static/audio/heart/normal_heart/T/5.wav\", \"app/static/audio/heart/normal_heart/T/5_comp.wav\", 0.07)\n",
    "\n",
    "# Example usage\n",
    "input_files = [\n",
    "    \"app/static/audio/heart/normal_heart/T/1.wav\",\n",
    "    \"app/static/audio/heart/normal_heart/T/2.wav\",\n",
    "    \"app/static/audio/heart/normal_heart/T/3_comp.wav\",\n",
    "    \"app/static/audio/heart/normal_heart/T/4.wav\",\n",
    "    \"app/static/audio/heart/normal_heart/T/5_comp.wav\"\n",
    "]\n",
    "\n",
    "output_path = \"app/static/audio/heart/normal_heart/T/combined_audio.wav\"\n",
    "\n",
    "combine_audio_files_heart(input_files, output_path)"
   ]
  },
  {
   "cell_type": "code",
   "execution_count": null,
   "metadata": {},
   "outputs": [],
   "source": []
  },
  {
   "cell_type": "code",
   "execution_count": null,
   "metadata": {},
   "outputs": [],
   "source": []
  }
 ],
 "metadata": {
  "kernelspec": {
   "display_name": "virtualenv",
   "language": "python",
   "name": "python3"
  },
  "language_info": {
   "codemirror_mode": {
    "name": "ipython",
    "version": 3
   },
   "file_extension": ".py",
   "mimetype": "text/x-python",
   "name": "python",
   "nbconvert_exporter": "python",
   "pygments_lexer": "ipython3",
   "version": "3.11.1"
  }
 },
 "nbformat": 4,
 "nbformat_minor": 2
}
