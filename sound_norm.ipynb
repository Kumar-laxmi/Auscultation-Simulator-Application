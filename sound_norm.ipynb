{
 "cells": [
  {
   "cell_type": "code",
   "execution_count": 8,
   "metadata": {},
   "outputs": [
    {
     "ename": "KeyboardInterrupt",
     "evalue": "",
     "output_type": "error",
     "traceback": [
      "\u001b[0;31m---------------------------------------------------------------------------\u001b[0m",
      "\u001b[0;31mKeyboardInterrupt\u001b[0m                         Traceback (most recent call last)",
      "Cell \u001b[0;32mIn[8], line 39\u001b[0m\n\u001b[1;32m     36\u001b[0m playsound(\u001b[38;5;124m'\u001b[39m\u001b[38;5;124mapp/static/audio/heart/normal_heart/A/5/190.wav\u001b[39m\u001b[38;5;124m'\u001b[39m)\n\u001b[1;32m     37\u001b[0m playsound(\u001b[38;5;124m'\u001b[39m\u001b[38;5;124mapp/static/audio/heart/normal_heart/A/5/201.wav\u001b[39m\u001b[38;5;124m'\u001b[39m)\n\u001b[0;32m---> 39\u001b[0m time\u001b[38;5;241m.\u001b[39msleep(delay)\n",
      "\u001b[0;31mKeyboardInterrupt\u001b[0m: "
     ]
    }
   ],
   "source": [
    "import time\n",
    "from playsound import playsound\n",
    "\n",
    "bpm = 120\n",
    "delay=60/bpm\n",
    "\n",
    "while True:\n",
    "    playsound('app/static/audio/heart/normal_heart/A/1.wav')\n",
    "    playsound('app/static/audio/heart/normal_heart/A/2.wav')\n",
    "\n",
    "    playsound('app/static/audio/heart/normal_heart/A/3/090.wav')\n",
    "    playsound('app/static/audio/heart/normal_heart/A/3/100.wav')\n",
    "    playsound('app/static/audio/heart/normal_heart/A/3/110.wav')\n",
    "    playsound('app/static/audio/heart/normal_heart/A/3/120.wav')\n",
    "    playsound('app/static/audio/heart/normal_heart/A/3/130.wav')\n",
    "    playsound('app/static/audio/heart/normal_heart/A/3/140.wav')\n",
    "    playsound('app/static/audio/heart/normal_heart/A/3/150.wav')\n",
    "    playsound('app/static/audio/heart/normal_heart/A/3/160.wav')\n",
    "    playsound('app/static/audio/heart/normal_heart/A/3/170.wav')\n",
    "    playsound('app/static/audio/heart/normal_heart/A/3/180.wav')\n",
    "    playsound('app/static/audio/heart/normal_heart/A/3/190.wav')\n",
    "    playsound('app/static/audio/heart/normal_heart/A/3/201.wav')\n",
    "\n",
    "    playsound('app/static/audio/heart/normal_heart/A/4.wav')\n",
    "\n",
    "    playsound('app/static/audio/heart/normal_heart/A/5/090.wav')\n",
    "    playsound('app/static/audio/heart/normal_heart/A/5/100.wav')\n",
    "    playsound('app/static/audio/heart/normal_heart/A/5/110.wav')\n",
    "    playsound('app/static/audio/heart/normal_heart/A/5/120.wav')\n",
    "    playsound('app/static/audio/heart/normal_heart/A/5/130.wav')\n",
    "    playsound('app/static/audio/heart/normal_heart/A/5/140.wav')\n",
    "    playsound('app/static/audio/heart/normal_heart/A/5/150.wav')\n",
    "    playsound('app/static/audio/heart/normal_heart/A/5/160.wav')\n",
    "    playsound('app/static/audio/heart/normal_heart/A/5/170.wav')\n",
    "    playsound('app/static/audio/heart/normal_heart/A/5/180.wav')\n",
    "    playsound('app/static/audio/heart/normal_heart/A/5/190.wav')\n",
    "    playsound('app/static/audio/heart/normal_heart/A/5/201.wav')\n",
    "\n",
    "    time.sleep(delay)"
   ]
  },
  {
   "cell_type": "code",
   "execution_count": 7,
   "metadata": {},
   "outputs": [],
   "source": [
    "import re\n",
    "import subprocess\n",
    "\n",
    "\n",
    "def get_speaker_output_volume():\n",
    "    \"\"\"\n",
    "    Get the current speaker output volume from 0 to 100.\n",
    "\n",
    "    Note that the speakers can have a non-zero volume but be muted, in which\n",
    "    case we return 0 for simplicity.\n",
    "\n",
    "    Note: Only runs on macOS.\n",
    "    \"\"\"\n",
    "    cmd = \"osascript -e 'get volume settings'\"\n",
    "    process = subprocess.run(cmd, stdout=subprocess.PIPE, shell=True)\n",
    "    output = process.stdout.strip().decode('ascii')\n",
    "\n",
    "    pattern = re.compile(r\"output volume:(\\d+), input volume:(\\d+), \"\n",
    "                         r\"alert volume:(\\d+), output muted:(true|false)\")\n",
    "    volume, _, _, muted = pattern.match(output).groups()\n",
    "\n",
    "    volume = int(volume)\n",
    "    muted = (muted == 'true')\n",
    "\n",
    "    return 0 if muted else volume"
   ]
  },
  {
   "cell_type": "code",
   "execution_count": 10,
   "metadata": {},
   "outputs": [],
   "source": [
    "vol = get_speaker_output_volume()"
   ]
  },
  {
   "cell_type": "code",
   "execution_count": 11,
   "metadata": {},
   "outputs": [
    {
     "name": "stdout",
     "output_type": "stream",
     "text": [
      "Volume: 46%\n"
     ]
    }
   ],
   "source": [
    "print(f'Volume: {vol}%')"
   ]
  },
  {
   "cell_type": "code",
   "execution_count": 20,
   "metadata": {},
   "outputs": [
    {
     "name": "stdout",
     "output_type": "stream",
     "text": [
      "List of folders:\n",
      "RLF\n",
      "LLB\n",
      "RUB\n",
      "LUF\n",
      "RMB\n",
      "RLB\n",
      "LLF\n",
      "LMB\n",
      "RUF\n",
      "LUB\n",
      "RMF\n"
     ]
    }
   ],
   "source": [
    "import os\n",
    "\n",
    "def list_folders(directory):\n",
    "    folders = [folder for folder in os.listdir(directory) if os.path.isdir(os.path.join(directory, folder))]\n",
    "    return folders\n",
    "\n",
    "# Example usage\n",
    "directory_path = 'app/static/audio/lungs/amphoric_respiration'\n",
    "folders = list_folders(directory_path)\n",
    "\n",
    "print(\"List of folders:\")\n",
    "for folder in folders:\n",
    "    print(folder)"
   ]
  },
  {
   "cell_type": "code",
   "execution_count": 21,
   "metadata": {},
   "outputs": [
    {
     "data": {
      "text/plain": [
       "['RLF', 'LLB', 'RUB', 'LUF', 'RMB', 'RLB', 'LLF', 'LMB', 'RUF', 'LUB', 'RMF']"
      ]
     },
     "execution_count": 21,
     "metadata": {},
     "output_type": "execute_result"
    }
   ],
   "source": [
    "folders"
   ]
  },
  {
   "cell_type": "code",
   "execution_count": 22,
   "metadata": {},
   "outputs": [
    {
     "name": "stdout",
     "output_type": "stream",
     "text": [
      "('LLB'),('LLF'),('LMB'),('LUB'),('LUF'),('RLB'),('RLF'),('RMB'),('RMF'),('RUB'),('RUF'),"
     ]
    }
   ],
   "source": [
    "for fol in sorted(folders):\n",
    "    print(\"('{}')\".format(fol), end=\",\")"
   ]
  },
  {
   "cell_type": "code",
   "execution_count": null,
   "metadata": {},
   "outputs": [],
   "source": []
  },
  {
   "cell_type": "code",
   "execution_count": null,
   "metadata": {},
   "outputs": [],
   "source": []
  }
 ],
 "metadata": {
  "kernelspec": {
   "display_name": "virtualenv",
   "language": "python",
   "name": "python3"
  },
  "language_info": {
   "codemirror_mode": {
    "name": "ipython",
    "version": 3
   },
   "file_extension": ".py",
   "mimetype": "text/x-python",
   "name": "python",
   "nbconvert_exporter": "python",
   "pygments_lexer": "ipython3",
   "version": "3.11.1"
  }
 },
 "nbformat": 4,
 "nbformat_minor": 2
}
