{
 "cells": [
  {
   "cell_type": "code",
   "execution_count": 1,
   "metadata": {},
   "outputs": [],
   "source": [
    "from pydub import AudioSegment\n",
    "import os\n",
    "\n",
    "def combine_audio_files_blank(input_folder, output_path):\n",
    "    # Ensure the output path has the desired extension (e.g., \".wav\")\n",
    "    output_path = os.path.splitext(output_path)[0] + \".wav\"\n",
    "\n",
    "    # List to store AudioSegment objects\n",
    "    audio_segments = []\n",
    "\n",
    "    # Loop through each file in the input folder\n",
    "    for filename in os.listdir(input_folder):\n",
    "        if filename.endswith(\".wav\"):  # Assuming your files are in WAV format, adjust as needed\n",
    "            file_path = os.path.join(input_folder, filename)\n",
    "            audio_segments.append(AudioSegment.from_file(file_path))\n",
    "\n",
    "    # Combine audio segments\n",
    "    combined_audio = sum(audio_segments)\n",
    "\n",
    "    # Export the combined audio to the specified output path\n",
    "    combined_audio.export(output_path, format=\"wav\")\n",
    "\n",
    "def create_blank_audio(duration_seconds):\n",
    "    # Create a blank audio segment\n",
    "    blank_audio = AudioSegment.silent(duration=int(duration_seconds * 1000))  # duration in milliseconds\n",
    "    return blank_audio\n",
    "\n",
    "def speed_up_audio1(input_path, output_path, speed_factor):\n",
    "    audio = AudioSegment.from_file(input_path)\n",
    "    sped_up_audio = audio.speedup(playback_speed=(1-speed_factor))\n",
    "    sped_up_audio.export(output_path, format=\"wav\")\n",
    "\n",
    "def speed_up_audio2(input_path, output_path, speed_factor):\n",
    "    audio = AudioSegment.from_file(input_path)\n",
    "    duration = audio.duration_seconds * (1 - speed_factor)\n",
    "    sped_up_audio = create_blank_audio(duration)\n",
    "    sped_up_audio.export(output_path, format=\"wav\")\n",
    "\n",
    "def combine_audio_files_heart(file_paths, output_path):\n",
    "    # List to store AudioSegment objects\n",
    "    audio_segments = []\n",
    "\n",
    "    # Load each audio file into an AudioSegment\n",
    "    for file_path in file_paths:\n",
    "        audio_segments.append(AudioSegment.from_file(file_path))\n",
    "\n",
    "    # Combine audio segments\n",
    "    combined_audio = sum(audio_segments)\n",
    "\n",
    "    # Export the combined audio to the specified output path\n",
    "    combined_audio.export(output_path, format=\"wav\")"
   ]
  },
  {
   "cell_type": "markdown",
   "metadata": {},
   "source": [
    "# Heart"
   ]
  },
  {
   "cell_type": "markdown",
   "metadata": {},
   "source": [
    "### Normal Heart Sound"
   ]
  },
  {
   "cell_type": "code",
   "execution_count": 2,
   "metadata": {},
   "outputs": [],
   "source": [
    "combine_audio_files_blank(\"app/static/audio/heart/normal_heart/A/3\", \"app/static/audio/heart/normal_heart/A/3.wav\")\n",
    "combine_audio_files_blank(\"app/static/audio/heart/normal_heart/A/5\", \"app/static/audio/heart/normal_heart/A/5.wav\")\n",
    "\n",
    "speed_up_audio1(\"app/static/audio/heart/normal_heart/A/3.wav\", \"app/static/audio/heart/normal_heart/A/3_comp.wav\", 0.07)\n",
    "speed_up_audio2(\"app/static/audio/heart/normal_heart/A/5.wav\", \"app/static/audio/heart/normal_heart/A/5_comp.wav\", 0.93)\n",
    "\n",
    "# Example usage\n",
    "input_files = [\n",
    "    \"app/static/audio/heart/normal_heart/A/1.wav\",\n",
    "    \"app/static/audio/heart/normal_heart/A/2.wav\",\n",
    "    \"app/static/audio/heart/normal_heart/A/3_comp.wav\",\n",
    "    \"app/static/audio/heart/normal_heart/A/4.wav\",\n",
    "    \"app/static/audio/heart/normal_heart/A/5_comp.wav\"\n",
    "]\n",
    "\n",
    "output_path = \"app/static/audio/heart/normal_heart/A/combined_audio.wav\"\n",
    "\n",
    "combine_audio_files_heart(input_files, output_path)"
   ]
  },
  {
   "cell_type": "code",
   "execution_count": 3,
   "metadata": {},
   "outputs": [],
   "source": [
    "combine_audio_files_blank(\"app/static/audio/heart/normal_heart/E/3\", \"app/static/audio/heart/normal_heart/E/3.wav\")\n",
    "combine_audio_files_blank(\"app/static/audio/heart/normal_heart/E/5\", \"app/static/audio/heart/normal_heart/E/5.wav\")\n",
    "\n",
    "speed_up_audio1(\"app/static/audio/heart/normal_heart/E/3.wav\", \"app/static/audio/heart/normal_heart/E/3_comp.wav\", 0.07)\n",
    "speed_up_audio2(\"app/static/audio/heart/normal_heart/E/5.wav\", \"app/static/audio/heart/normal_heart/E/5_comp.wav\", 0.93)\n",
    "\n",
    "# Example usage\n",
    "input_files = [\n",
    "    \"app/static/audio/heart/normal_heart/E/1.wav\",\n",
    "    \"app/static/audio/heart/normal_heart/E/2.wav\",\n",
    "    \"app/static/audio/heart/normal_heart/E/3_comp.wav\",\n",
    "    \"app/static/audio/heart/normal_heart/E/4.wav\",\n",
    "    \"app/static/audio/heart/normal_heart/E/5_comp.wav\"\n",
    "]\n",
    "\n",
    "output_path = \"app/static/audio/heart/normal_heart/E/combined_audio.wav\"\n",
    "\n",
    "combine_audio_files_heart(input_files, output_path)"
   ]
  },
  {
   "cell_type": "code",
   "execution_count": 4,
   "metadata": {},
   "outputs": [],
   "source": [
    "combine_audio_files_blank(\"app/static/audio/heart/normal_heart/M/3\", \"app/static/audio/heart/normal_heart/M/3.wav\")\n",
    "combine_audio_files_blank(\"app/static/audio/heart/normal_heart/M/5\", \"app/static/audio/heart/normal_heart/M/5.wav\")\n",
    "\n",
    "speed_up_audio1(\"app/static/audio/heart/normal_heart/M/3.wav\", \"app/static/audio/heart/normal_heart/M/3_comp.wav\", 0.07)\n",
    "speed_up_audio2(\"app/static/audio/heart/normal_heart/M/5.wav\", \"app/static/audio/heart/normal_heart/M/5_comp.wav\", 0.93)\n",
    "\n",
    "# Example usage\n",
    "input_files = [\n",
    "    \"app/static/audio/heart/normal_heart/M/1.wav\",\n",
    "    \"app/static/audio/heart/normal_heart/M/2.wav\",\n",
    "    \"app/static/audio/heart/normal_heart/M/3_comp.wav\",\n",
    "    \"app/static/audio/heart/normal_heart/M/4.wav\",\n",
    "    \"app/static/audio/heart/normal_heart/M/5_comp.wav\"\n",
    "]\n",
    "\n",
    "output_path = \"app/static/audio/heart/normal_heart/M/combined_audio.wav\"\n",
    "\n",
    "combine_audio_files_heart(input_files, output_path)"
   ]
  },
  {
   "cell_type": "code",
   "execution_count": 5,
   "metadata": {},
   "outputs": [],
   "source": [
    "combine_audio_files_blank(\"app/static/audio/heart/normal_heart/P/3\", \"app/static/audio/heart/normal_heart/P/3.wav\")\n",
    "combine_audio_files_blank(\"app/static/audio/heart/normal_heart/P/5\", \"app/static/audio/heart/normal_heart/P/5.wav\")\n",
    "\n",
    "speed_up_audio1(\"app/static/audio/heart/normal_heart/P/3.wav\", \"app/static/audio/heart/normal_heart/P/3_comp.wav\", 0.07)\n",
    "speed_up_audio2(\"app/static/audio/heart/normal_heart/P/5.wav\", \"app/static/audio/heart/normal_heart/P/5_comp.wav\", 0.93)\n",
    "\n",
    "# Example usage\n",
    "input_files = [\n",
    "    \"app/static/audio/heart/normal_heart/P/1.wav\",\n",
    "    \"app/static/audio/heart/normal_heart/P/2.wav\",\n",
    "    \"app/static/audio/heart/normal_heart/P/3_comp.wav\",\n",
    "    \"app/static/audio/heart/normal_heart/P/4.wav\",\n",
    "    \"app/static/audio/heart/normal_heart/P/5_comp.wav\"\n",
    "]\n",
    "\n",
    "output_path = \"app/static/audio/heart/normal_heart/P/combined_audio.wav\"\n",
    "\n",
    "combine_audio_files_heart(input_files, output_path)"
   ]
  },
  {
   "cell_type": "code",
   "execution_count": 6,
   "metadata": {},
   "outputs": [],
   "source": [
    "combine_audio_files_blank(\"app/static/audio/heart/normal_heart/T/3\", \"app/static/audio/heart/normal_heart/T/3.wav\")\n",
    "combine_audio_files_blank(\"app/static/audio/heart/normal_heart/T/5\", \"app/static/audio/heart/normal_heart/T/5.wav\")\n",
    "\n",
    "speed_up_audio1(\"app/static/audio/heart/normal_heart/T/3.wav\", \"app/static/audio/heart/normal_heart/T/3_comp.wav\", 0.07)\n",
    "speed_up_audio2(\"app/static/audio/heart/normal_heart/T/5.wav\", \"app/static/audio/heart/normal_heart/T/5_comp.wav\", 0.93)\n",
    "\n",
    "# Example usage\n",
    "input_files = [\n",
    "    \"app/static/audio/heart/normal_heart/T/1.wav\",\n",
    "    \"app/static/audio/heart/normal_heart/T/2.wav\",\n",
    "    \"app/static/audio/heart/normal_heart/T/3_comp.wav\",\n",
    "    \"app/static/audio/heart/normal_heart/T/4.wav\",\n",
    "    \"app/static/audio/heart/normal_heart/T/5_comp.wav\"\n",
    "]\n",
    "\n",
    "output_path = \"app/static/audio/heart/normal_heart/T/combined_audio.wav\"\n",
    "\n",
    "combine_audio_files_heart(input_files, output_path)"
   ]
  },
  {
   "cell_type": "markdown",
   "metadata": {},
   "source": [
    "### Acute Myocardial Infection (not executed)"
   ]
  },
  {
   "cell_type": "code",
   "execution_count": null,
   "metadata": {},
   "outputs": [],
   "source": [
    "combine_audio_files_blank(\"app/static/audio/heart/acute_myocardial_infarction/A/1\", \"app/static/audio/heart/acute_myocardial_infarction/A/1.wav\")\n",
    "combine_audio_files_blank(\"app/static/audio/heart/acute_myocardial_infarction/A/3\", \"app/static/audio/heart/acute_myocardial_infarction/A/3.wav\")\n",
    "combine_audio_files_blank(\"app/static/audio/heart/acute_myocardial_infarction/A/5\", \"app/static/audio/heart/acute_myocardial_infarction/A/5.wav\")\n",
    "\n",
    "speed_up_audio1(\"app/static/audio/heart/acute_myocardial_infarction/A/3.wav\", \"app/static/audio/heart/acute_myocardial_infarction/A/3_comp.wav\", 0.07)\n",
    "speed_up_audio1(\"app/static/audio/heart/acute_myocardial_infarction/A/5.wav\", \"app/static/audio/heart/acute_myocardial_infarction/A/5_comp.wav\", 0.93)\n",
    "\n",
    "# Example usage\n",
    "input_files = [\n",
    "    \"app/static/audio/heart/acute_myocardial_infarction/A/1.wav\",\n",
    "    \"app/static/audio/heart/acute_myocardial_infarction/A/2.wav\",\n",
    "    \"app/static/audio/heart/acute_myocardial_infarction/A/3_comp.wav\",\n",
    "    \"app/static/audio/heart/acute_myocardial_infarction/A/4.wav\",\n",
    "    \"app/static/audio/heart/acute_myocardial_infarction/A/5_comp.wav\"\n",
    "]\n",
    "\n",
    "output_path = \"app/static/audio/heart/acute_myocardial_infarction/A/combined_audio.wav\"\n",
    "\n",
    "combine_audio_files_heart(input_files, output_path)"
   ]
  },
  {
   "cell_type": "code",
   "execution_count": null,
   "metadata": {},
   "outputs": [],
   "source": []
  }
 ],
 "metadata": {
  "kernelspec": {
   "display_name": "virtualenv",
   "language": "python",
   "name": "python3"
  },
  "language_info": {
   "codemirror_mode": {
    "name": "ipython",
    "version": 3
   },
   "file_extension": ".py",
   "mimetype": "text/x-python",
   "name": "python",
   "nbconvert_exporter": "python",
   "pygments_lexer": "ipython3",
   "version": "3.11.1"
  }
 },
 "nbformat": 4,
 "nbformat_minor": 2
}
